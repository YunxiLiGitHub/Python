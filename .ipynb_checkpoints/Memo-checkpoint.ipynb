{
 "cells": [
  {
   "cell_type": "markdown",
   "metadata": {},
   "source": [
    "# GitHub"
   ]
  },
  {
   "cell_type": "markdown",
   "metadata": {},
   "source": [
    "https://github.com/, 默认用户名和密码\n",
    "YunxiLiGitHub/PythonLearning            用来学习python的\n",
    "\n",
    "YunxiLiGitHub/MachineLearning_Python    用来学习ml的\n",
    "\n",
    "YunxiLiGitHub/coursera-ml-py\n",
    "\n",
    "YunxiLiGitHub/MachineLearningEx\n",
    "\n",
    "YunxiLiGitHub/CourseraML\n",
    "\n",
    "\n",
    "本地目录C:\\Users\\eyunxli\\Documents\\GitHub"
   ]
  },
  {
   "cell_type": "markdown",
   "metadata": {},
   "source": [
    "|sdfsf|131|\n",
    "|xxx|xxx|\n"
   ]
  },
  {
   "cell_type": "markdown",
   "metadata": {},
   "source": [
    "# Jupyter Notebook"
   ]
  },
  {
   "cell_type": "markdown",
   "metadata": {},
   "source": [
    "- 程序安装在C:\\MyPrograms\\Anaconda3\n",
    "- 要运行程序，运行start/Anaconda3(64bit)/jupyter notebook\n",
    "    - 启动后，会出现窗口，复制窗口中一下类似的字串到浏览器地址栏中http://localhost:8888/?token=534756d0523a0181a236a8980f5ba4a51e3e19260b2fd6b8\n",
    "    - 在浏览器中，找到想要运行的程序(浏览器的根目录是C:\\Users\\eyunxli)\n",
    "    - 使用Edge浏览器(由于浏览器快捷键(autohotkey)的限制，Edge没有被管理，所以Esc不会最小化浏览器。其他浏览器会被最小化并隐藏)"
   ]
  },
  {
   "cell_type": "markdown",
   "metadata": {},
   "source": [
    "## 使用pip安装组件\n",
    "- 执行windows start/Anaconda3(64it)/Anaconda promot\n",
    "- 在出现的窗口键入命令安装，例如"
   ]
  },
  {
   "cell_type": "markdown",
   "metadata": {},
   "source": [
    "## NBextensions\n",
    "- Notebook扩展是一些能帮助你轻松把想要的内容/功能添加进Jupyter Notebook的插件。安装扩展最好的方法是Jupyter NbExtensions Configurator，它提供了一系列标签，只需勾选相应插件就能自动载入。"
   ]
  },
  {
   "cell_type": "markdown",
   "metadata": {},
   "source": [
    "### 安装\n",
    "- 用conda安装：\n",
    "--conda install -c conda-forge jupyter_contrib_nbextensions\n",
    "    -conda install -c conda-forge jupyter_nbextensions_configurator    \n",
    "- 或者用pip：\n",
    "    -pip install jupyter_nbextensions_configurator jupyter_contrib_nbextensions    \n",
    "    -jupyter contrib nbextension install --user\n",
    "    \n",
    "-jupyter nbextensions_configurator enable --user"
   ]
  },
  {
   "cell_type": "markdown",
   "metadata": {},
   "source": [
    "### 标题折叠 Collapsible headings\n",
    "\n",
    "\n",
    "当你在处理一个大型的 notebooks 时，这项扩展非常有用，它可以让你隐藏部分内容。"
   ]
  },
  {
   "cell_type": "markdown",
   "metadata": {},
   "source": [
    "### 通知 Notify\n",
    "当你长时间运行一个任务程序的时候，程序运行结束后，此扩展功能会自动提醒你。"
   ]
  },
  {
   "cell_type": "markdown",
   "metadata": {},
   "source": [
    "### 代码折叠Code folding\n"
   ]
  },
  {
   "cell_type": "markdown",
   "metadata": {},
   "source": [
    "### 进度条 tqdm_notebook\n",
    "\n",
    "tqdm 是一个 Python 的进度条库，在 jupyter notebook 中则被称之为 \"tqdm_notebook\"。自从在 nootbook 中加入了 tqdm_notebook 扩展功能，你再也不用担心其引发的混乱问题了。"
   ]
  },
  {
   "cell_type": "markdown",
   "metadata": {},
   "source": [
    "### 文档结构图 Table of Contents\n",
    "目录,可以将所有的heade标题栏收集起来,只对于已经运行的markdown类型的标题有效.通过目录可以进入指定链接. "
   ]
  },
  {
   "cell_type": "markdown",
   "metadata": {},
   "source": [
    "### 插入代码 Snippets\n",
    "\n",
    "Snippets在工具栏里加了一个下拉菜单，可以非常方便的直接插入代码段，完全不用手动敲。"
   ]
  },
  {
   "cell_type": "markdown",
   "metadata": {},
   "source": [
    "### Split Cells Notebook\n",
    "拆分笔记本中的单元格，改成相邻的模式，看起来就像分了两栏。"
   ]
  },
  {
   "cell_type": "markdown",
   "metadata": {},
   "source": [
    "### 其他\n",
    "%debug这个本质上也不是 notebook 的一个扩展，而是 IPython 中的一个魔法命令。\n",
    "%debug 魔法命令\n",
    "1. 得到了一个异常\n",
    "2. 重新插入一个新的输入框，输入 %debug，然后运行它\n",
    "交互式的调试方法可以打开并显示代码出现异常的语句，方便你联系前后程序查看具体情况。\n",
    "\n",
    "%Ismagic ：在输入框中运行这个命令，列出所有可用的 IPython 魔法命令\n",
    "zen mode 扩展： 隐藏菜单栏，让你更专注于代码\n",
    "Execute time 扩展：显示程序块运行的时间\n",
    "autoreload：在不重启 notebook 的情况下，自动载入外部文件，从而修改代码，具体操作如下："
   ]
  },
  {
   "cell_type": "markdown",
   "metadata": {},
   "source": [
    "## 放PPT"
   ]
  },
  {
   "cell_type": "markdown",
   "metadata": {},
   "source": [
    "### 默认方式\n",
    "一种方法是用Jupyter内置的PPT选项，依次点击菜单栏里的View → Cell Toolbar → Slideshow，之后每个单元格上面都会有一个灰色的横条，选Sub-Slide。\n",
    "然后输入以下代码：\n",
    "\n",
    "jupyter nbconvert *.ipynb --to slides --post serve  #insert your notebook name instead of *.ipynb"
   ]
  },
  {
   "cell_type": "markdown",
   "metadata": {},
   "source": [
    "### 其他方法\n",
    "不过，用PyTorch默认方法生成的PPT代码不能编辑，这个时候就要用到RISE插件了。RISE用到reveal.js来运行PPT，可以不退出PPT，直接运行代码。先来安装RISE，推荐用conda：conda install -c damianavila82 rise\n",
    "其实不太推荐pip：pip install RISE\n",
    "然后调用JS和CSS：jupyter-nbextension install rise --py --sys-prefix\n",
    "#enable the nbextension:\n",
    "jupyter-nbextension enable rise --py --sys-prefix\n",
    "安装好啦，现在重新打开你的Jupyter Notebook，发现一个新的扩展，名叫“Enter/Exit RISE Slideshow”。"
   ]
  },
  {
   "cell_type": "markdown",
   "metadata": {
    "deletable": false,
    "editable": false,
    "heading_collapsed": true,
    "run_control": {
     "frozen": true
    }
   },
   "source": [
    "## 代码中嵌入内容"
   ]
  },
  {
   "cell_type": "markdown",
   "metadata": {
    "deletable": false,
    "editable": false,
    "hidden": true,
    "run_control": {
     "frozen": true
    }
   },
   "source": [
    "### 嵌入网页"
   ]
  },
  {
   "cell_type": "code",
   "execution_count": 27,
   "metadata": {
    "deletable": false,
    "editable": false,
    "hidden": true,
    "run_control": {
     "frozen": true
    }
   },
   "outputs": [
    {
     "data": {
      "text/html": [
       "\n",
       "        <iframe\n",
       "            width=\"800\"\n",
       "            height=\"450\"\n",
       "            src=\"https://en.wikipedia.org/wiki/HTTPS\"\n",
       "            frameborder=\"0\"\n",
       "            allowfullscreen\n",
       "        ></iframe>\n",
       "        "
      ],
      "text/plain": [
       "<IPython.lib.display.IFrame at 0x212b47f2a20>"
      ]
     },
     "execution_count": 27,
     "metadata": {},
     "output_type": "execute_result"
    }
   ],
   "source": [
    "#Note that http urls will not be displayed. Only https are allowed inside the Iframe\n",
    "from IPython.display import IFrame\n",
    "IFrame('https://en.wikipedia.org/wiki/HTTPS', width=800, height=450)"
   ]
  },
  {
   "cell_type": "markdown",
   "metadata": {
    "deletable": false,
    "editable": false,
    "hidden": true,
    "run_control": {
     "frozen": true
    }
   },
   "source": [
    "### 嵌入pdf"
   ]
  },
  {
   "cell_type": "code",
   "execution_count": 28,
   "metadata": {
    "collapsed": true,
    "deletable": false,
    "editable": false,
    "hidden": true,
    "run_control": {
     "frozen": true
    }
   },
   "outputs": [
    {
     "data": {
      "text/html": [
       "\n",
       "        <iframe\n",
       "            width=\"800\"\n",
       "            height=\"450\"\n",
       "            src=\"https://arxiv.org/pdf/1406.2661.pdf\"\n",
       "            frameborder=\"0\"\n",
       "            allowfullscreen\n",
       "        ></iframe>\n",
       "        "
      ],
      "text/plain": [
       "<IPython.lib.display.IFrame at 0x212b47f2518>"
      ]
     },
     "execution_count": 28,
     "metadata": {},
     "output_type": "execute_result"
    }
   ],
   "source": [
    "from IPython.display import IFrame\n",
    "IFrame('https://arxiv.org/pdf/1406.2661.pdf', width=800, height=450)"
   ]
  },
  {
   "cell_type": "markdown",
   "metadata": {
    "deletable": false,
    "editable": false,
    "hidden": true,
    "run_control": {
     "frozen": true
    }
   },
   "source": [
    "### 嵌入文件链接"
   ]
  },
  {
   "cell_type": "code",
   "execution_count": 33,
   "metadata": {
    "deletable": false,
    "editable": false,
    "hidden": true,
    "run_control": {
     "frozen": true
    }
   },
   "outputs": [
    {
     "data": {
      "text/html": [
       "<a href='README' target='_blank'>README</a><br>"
      ],
      "text/plain": [
       "C:\\Users\\eyunxli\\Documents\\GitHub\\PythonLearning\\README"
      ]
     },
     "execution_count": 33,
     "metadata": {},
     "output_type": "execute_result"
    }
   ],
   "source": [
    "from IPython.display import FileLink, FileLinks\n",
    "FileLink('README')"
   ]
  },
  {
   "cell_type": "markdown",
   "metadata": {
    "deletable": false,
    "editable": false,
    "run_control": {
     "frozen": true
    }
   },
   "source": [
    "## MD中嵌入内容"
   ]
  },
  {
   "cell_type": "markdown",
   "metadata": {},
   "source": [
    "### 嵌入图片\n",
    "![Alt](https://www.example.com/image.jpg)\n",
    "!(https://www.google.com/url?sa=i&source=images&cd=&cad=rja&uact=8&ved=2ahUKEwi3uMqhiYngAhVGXSwKHd5QBkgQjRx6BAgBEAU&url=https%3A%2F%2Fwww.python.org%2F&psig=AOvVaw0fMvSIoZ9toytPBoPgt2qC&ust=1548510492580241)"
   ]
  },
  {
   "cell_type": "markdown",
   "metadata": {
    "deletable": false,
    "editable": false,
    "heading_collapsed": true,
    "run_control": {
     "frozen": true
    }
   },
   "source": [
    "### 嵌入代码块\n",
    "\n",
    "```\n",
    "bar()\n",
    "if()\n",
    "    else\n",
    "```"
   ]
  },
  {
   "cell_type": "markdown",
   "metadata": {
    "deletable": false,
    "editable": false,
    "run_control": {
     "frozen": true
    }
   },
   "source": [
    "### 嵌入数学公式\n",
    "可以使用LaTeX公式\n",
    "\n",
    "创建行内公式，例如 $\\Gamma(n) = (n-1)!\\quad\\forall n\\in\\mathbb N$。\n",
    "\n",
    "或者块级公式： $$ x = \\dfrac{-b \\pm \\sqrt{b^2 - 4ac}}{2a} $$"
   ]
  },
  {
   "cell_type": "markdown",
   "metadata": {
    "deletable": false,
    "editable": false,
    "run_control": {
     "frozen": true
    }
   },
   "source": [
    "## Qgrid\n",
    "Qgrid也是一个Jupyter的小部件，不过它主要用于数据帧，装上之后，就可以像操作Excel里的筛选功能一样，方便的处理数据。\n",
    "安装方法用pip安装：pip install qgrid\n",
    "jupyter nbextension enable --py --sys-prefix qgrid\n",
    "(# only required if you have not enabled the ipywidgets nbextension yet)\n",
    "jupyter nbextension enable --py --sys-prefix widgetsnbextension\n",
    "用conda安装：# only required if you have not added conda-forge to your channels yet\n",
    "conda config --add channels conda-forge\n",
    "conda install qgrid"
   ]
  },
  {
   "cell_type": "markdown",
   "metadata": {},
   "source": [
    "## 两种模式: 编辑模式(按键 Enter 开启)，命令模式(按键 Esc 开启)\n",
    "Jupyter Notebook 有两种键盘输入模式。\n",
    "编辑模式，允许你往单元中键入代码或文本；这时的单元框线是绿色的。\n",
    "命令模式，键盘输入运行程序命令；这时的单元框线是灰色。\n",
    "\n",
    "命令模式 (按键 Esc 开启)\n",
    "Enter: 转入编辑模式\n",
    "Shift-Enter: 运行本单元，选中下个单元\n",
    "Ctrl-Enter: 运行本单元\n",
    "Alt-Enter: 运行本单元，在其下插入新单元\n",
    "Y: 单元转入代码状态\n",
    "M:单元转入markdown状态\n",
    "R: 单元转入raw状态\n",
    "1: 设定 1 级标题\n",
    "2: 设定 2 级标题\n",
    "3: 设定 3 级标题\n",
    "4: 设定 4 级标题\n",
    "5: 设定 5 级标题\n",
    "6: 设定 6 级标题\n",
    "Up: 选中上方单元\n",
    "K: 选中上方单元\n",
    "Down: 选中下方单元\n",
    "J: 选中下方单元\n",
    "Shift-K: 扩大选中上方单元\n",
    "Shift-J: 扩大选中下方单元\n",
    "A: 在上方插入新单元\n",
    "B: 在下方插入新单元\n",
    "X: 剪切选中的单元\n",
    "C: 复制选中的单元\n",
    "Shift-V: 粘贴到上方单元\n",
    "V: 粘贴到下方单元\n",
    "Z: 恢复删除的最后一个单元\n",
    "D,D: 删除选中的单元\n",
    "Shift-M: 合并选中的单元\n",
    "Ctrl-S: 文件存盘\n",
    "S: 文件存盘\n",
    "L: 转换行号\n",
    "O: 转换输出\n",
    "Shift-O: 转换输出滚动\n",
    "Esc: 关闭页面\n",
    "Q: 关闭页面\n",
    "H: 显示快捷键帮助\n",
    "I,I: 中断Notebook内核\n",
    "0,0: 重启Notebook内核\n",
    "Shift: 忽略\n",
    "Shift-Space: 向上滚动\n",
    "Space: 向下滚动\n",
    "\n",
    "编辑模式 ( Enter 键启动)\n",
    "Tab: 代码补全或缩进\n",
    "Shift-Tab: 提示\n",
    "Ctrl-]: 缩进\n",
    "Ctrl-[: 解除缩进\n",
    "Ctrl-A: 全选\n",
    "Ctrl-Z: 复原\n",
    "Ctrl-Shift-Z: 再做\n",
    "Ctrl-Y: 再做\n",
    "Ctrl-Home: 跳到单元开头\n",
    "Ctrl-Up: 跳到单元开头\n",
    "Ctrl-End: 跳到单元末尾\n",
    "Ctrl-Down: 跳到单元末尾\n",
    "Ctrl-Left: 跳到左边一个字首\n",
    "Ctrl-Right: 跳到右边一个字首\n",
    "Ctrl-Backspace: 删除前面一个字\n",
    "Ctrl-Delete: 删除后面一个字\n",
    "Esc: 进入命令模式\n",
    "Ctrl-M: 进入命令模式\n",
    "Shift-Enter: 运行本单元，选中下一单元\n",
    "Ctrl-Enter: 运行本单元\n",
    "Alt-Enter: 运行本单元，在下面插入一单元\n",
    "Ctrl-Shift--: 分割单元\n",
    "Ctrl-Shift-Subtract: 分割单元\n",
    "Ctrl-S: 文件存盘\n",
    "Shift: 忽略\n",
    "Up: 光标上移或转入上一单元\n",
    "Down:光标下移或转入下一单元"
   ]
  },
  {
   "cell_type": "markdown",
   "metadata": {},
   "source": [
    "## 执行shell命令\n",
    "- 直接在命令之前放一个“!”，就能执行shell命令，并且可以返回shell的执行结果值"
   ]
  },
  {
   "cell_type": "code",
   "execution_count": 115,
   "metadata": {},
   "outputs": [
    {
     "name": "stdout",
     "output_type": "stream",
     "text": [
      "['19/01/25 ']\n"
     ]
    },
    {
     "data": {
      "text/plain": [
       "IPython.utils.text.SList"
      ]
     },
     "execution_count": 115,
     "metadata": {},
     "output_type": "execute_result"
    }
   ],
   "source": [
    "d = !date/T  ##dos命令获取当前日期\n",
    "print(d)\n",
    "type(d)  ##注意，返回值的类型不是列表"
   ]
  },
  {
   "cell_type": "markdown",
   "metadata": {},
   "source": [
    "# 注释"
   ]
  },
  {
   "cell_type": "code",
   "execution_count": 14,
   "metadata": {
    "deletable": false,
    "editable": false,
    "run_control": {
     "frozen": true
    }
   },
   "outputs": [
    {
     "name": "stdout",
     "output_type": "stream",
     "text": [
      "hello\n"
     ]
    }
   ],
   "source": [
    "# 单个#开头是单行注释\n",
    "# 第二个注释\n",
    " \n",
    "'''\n",
    "三个单引号用来开始和结束多行注释\n",
    "第三注释\n",
    "第四注释\n",
    "'''\n",
    " \n",
    "\"\"\"\n",
    "三个双引号用来开始和结束多行注释\n",
    "第五注释\n",
    "第六注释\n",
    "\"\"\"\n",
    "print(\"hello\")"
   ]
  },
  {
   "cell_type": "code",
   "execution_count": 15,
   "metadata": {},
   "outputs": [
    {
     "name": "stdout",
     "output_type": "stream",
     "text": [
      "True\n",
      "False\n"
     ]
    }
   ],
   "source": [
    "if True:\n",
    "    print (\"True\")\n",
    "    print (\"False\")  \n",
    "else:\n",
    "    print (\"False\")"
   ]
  },
  {
   "cell_type": "markdown",
   "metadata": {
    "deletable": false,
    "editable": false,
    "run_control": {
     "frozen": true
    }
   },
   "source": [
    "# 列表"
   ]
  },
  {
   "cell_type": "markdown",
   "metadata": {
    "deletable": false,
    "editable": false,
    "run_control": {
     "frozen": true
    }
   },
   "source": [
    "## 列表索引（下标）\n",
    "- 列表索引从0开始\n",
    "- 列表索引可以反向使用，最后一个（倒数第一个）的下标是-1"
   ]
  },
  {
   "cell_type": "code",
   "execution_count": 5,
   "metadata": {
    "deletable": false,
    "editable": false,
    "run_control": {
     "frozen": true
    }
   },
   "outputs": [
    {
     "name": "stdout",
     "output_type": "stream",
     "text": [
      "l= [0, 1, 2, 3, 4, 5]\n",
      "l[0]= 0 \tl[3]= 3\n",
      "l[-1]= 5 \tl[-2]= 4 \tl[-6]= 0\n"
     ]
    }
   ],
   "source": [
    "l = [0,1,2,3,4,5];  \n",
    "\n",
    "print(\"l=\", l[:])\n",
    "print(\"l[0]=\", l[0], \"\\tl[3]=\", l[3])\n",
    "print(\"l[-1]=\", l[-1], \"\\tl[-2]=\", l[-2], \"\\tl[-6]=\", l[-6])  "
   ]
  },
  {
   "cell_type": "markdown",
   "metadata": {
    "deletable": false,
    "editable": false,
    "run_control": {
     "frozen": true
    }
   },
   "source": [
    "## 列表切片\n",
    "- 列表切片的本质是索引过滤，从原始列表的所有索引中，指定某个或者某些索引\n",
    "- 通常一个切片操作要提供三个参数 [start_index:  stop_index:  step]\n",
    "    - start_index是切片的起始位置（包括）. start_index置为空时，表示无限制，就是说可以从所有可能位置作为开始\n",
    "    - stop_index是切片的结束位置（不包括）. stop_index置为空时，表示无限制，就是说可以从所有可能位置作为结束\n",
    "    - step是切片步长。step置为空时，表示step=1 \n",
    "- start_index和stop_index本质上就是列表索引。列表索引的所有规则都适用。\n",
    "- start_index,stop_index,step不论是正数还是负数索引还是混用都可以\n",
    "- 切片操作也可以只提供两个参数[start_index:  stop_index]，此时step默认为1\n",
    "- [::]和[:]都表示切片所有元素\n",
    "- step取正数，表示从前向后的顺序切片。取负数，表示从后向前的顺序切片。\n",
    "- step取值不影响start_index和stop_index的解读。\n"
   ]
  },
  {
   "cell_type": "code",
   "execution_count": 6,
   "metadata": {
    "deletable": false,
    "editable": false,
    "run_control": {
     "frozen": true
    }
   },
   "outputs": [
    {
     "name": "stdout",
     "output_type": "stream",
     "text": [
      "l= [0, 1, 2, 3, 4, 5, 6, 7, 8, 9, 10]\n",
      "l[1:9:1]= [1, 2, 3, 4, 5, 6, 7, 8]\n",
      "l[1:9]= [1, 2, 3, 4, 5, 6, 7, 8]\n",
      "l[1:9:2]= [1, 3, 5, 7]\n"
     ]
    }
   ],
   "source": [
    "l = [0, 1, 2, 3, 4, 5, 6, 7, 8, 9, 10]; \n",
    "print(\"l=\",l)\n",
    "print(\"l[1:9:1]=\", l[1:9:1]) \n",
    "print(\"l[1:9]=\", l[1:9]) \n",
    "print(\"l[1:9:2]=\", l[1:9:2]) "
   ]
  },
  {
   "cell_type": "code",
   "execution_count": 7,
   "metadata": {
    "deletable": false,
    "editable": false,
    "run_control": {
     "frozen": true
    }
   },
   "outputs": [
    {
     "name": "stdout",
     "output_type": "stream",
     "text": [
      "l= [0, 1, 2, 3, 4, 5, 6, 7, 8, 9, 10]\n",
      "l[:3]= [0, 1, 2]\n",
      "l[2:]= [2, 3, 4, 5, 6, 7, 8, 9, 10]\n"
     ]
    }
   ],
   "source": [
    "l = [0, 1, 2, 3, 4, 5, 6, 7, 8, 9, 10]; \n",
    "print(\"l=\",l)\n",
    "print(\"l[:3]=\", l[:3]) \n",
    "print(\"l[2:]=\", l[2:]) "
   ]
  },
  {
   "cell_type": "code",
   "execution_count": 8,
   "metadata": {
    "deletable": false,
    "editable": false,
    "run_control": {
     "frozen": true
    }
   },
   "outputs": [
    {
     "name": "stdout",
     "output_type": "stream",
     "text": [
      "l= [0, 1, 2, 3, 4, 5, 6, 7, 8, 9, 10]\n",
      "l[:]= [0, 1, 2, 3, 4, 5, 6, 7, 8, 9, 10]\n",
      "l[::]= [0, 1, 2, 3, 4, 5, 6, 7, 8, 9, 10]\n"
     ]
    }
   ],
   "source": [
    "l = [0, 1, 2, 3, 4, 5, 6, 7, 8, 9, 10]; \n",
    "print(\"l=\",l)\n",
    "print(\"l[:]=\", l[:]) \n",
    "print(\"l[::]=\", l[::]) "
   ]
  },
  {
   "cell_type": "code",
   "execution_count": 9,
   "metadata": {
    "deletable": false,
    "editable": false,
    "run_control": {
     "frozen": true
    }
   },
   "outputs": [
    {
     "name": "stdout",
     "output_type": "stream",
     "text": [
      "l= [0, 1, 2, 3, 4, 5, 6, 7, 8, 9, 10]\n",
      "l[::-1]= [10, 9, 8, 7, 6, 5, 4, 3, 2, 1, 0] ##[start_index: stop_index: step]，step=-1\n",
      "l[:-1]= [0, 1, 2, 3, 4, 5, 6, 7, 8, 9] ##[start_index: stop_index]，step=1\n"
     ]
    }
   ],
   "source": [
    "l = [0, 1, 2, 3, 4, 5, 6, 7, 8, 9, 10]; \n",
    "print(\"l=\",l)\n",
    "print(\"l[::-1]=\", l[::-1], \"##[start_index: stop_index: step]，step=-1\")\n",
    "print(\"l[:-1]=\", l[:-1], \"##[start_index: stop_index]，step=1\")"
   ]
  },
  {
   "cell_type": "code",
   "execution_count": 11,
   "metadata": {
    "deletable": false,
    "editable": false,
    "run_control": {
     "frozen": true
    }
   },
   "outputs": [
    {
     "name": "stdout",
     "output_type": "stream",
     "text": [
      "l= [0, 1, 2, 3, 4, 5, 6, 7, 8, 9, 10]\n",
      "l[3::1]= [3, 4, 5, 6, 7, 8, 9, 10] \t\t##正向，开始为3，结束不限定\n",
      "l[3::-1]= [3, 2, 1, 0] \t\t\t\t##反向，开始为3，结束不限定\n",
      "l[:3:1]= [0, 1, 2] \t\t\t\t##正向，结束为3，开始不限定\n",
      "l[:3:-1]= [10, 9, 8, 7, 6, 5, 4] \t\t##反向，结束为3，开始不限定\n"
     ]
    }
   ],
   "source": [
    "l = [0, 1, 2, 3, 4, 5, 6, 7, 8, 9, 10]; \n",
    "print(\"l=\",l)\n",
    "print(\"l[3::1]=\", l[3::1], \"\\t\\t##正向，开始为3，结束不限定\") \n",
    "print(\"l[3::-1]=\", l[3::-1], \"\\t\\t\\t\\t##反向，开始为3，结束不限定\") \n",
    "print(\"l[:3:1]=\", l[:3:1], \"\\t\\t\\t\\t##正向，结束为3，开始不限定\") \n",
    "print(\"l[:3:-1]=\", l[:3:-1], \"\\t\\t##反向，结束为3，开始不限定\") "
   ]
  },
  {
   "cell_type": "markdown",
   "metadata": {
    "deletable": false,
    "editable": false,
    "run_control": {
     "frozen": true
    }
   },
   "source": [
    "## 列表切片 vs 列表索引\n",
    "- 列表切片的结果是一个新的列表，列表索引的结果是列表中的一个元素"
   ]
  },
  {
   "cell_type": "code",
   "execution_count": 52,
   "metadata": {
    "deletable": false,
    "editable": false,
    "run_control": {
     "frozen": true
    }
   },
   "outputs": [
    {
     "name": "stdout",
     "output_type": "stream",
     "text": [
      "l[3:4:1]= [3] \t##结果是新的列表\n",
      "l[3]= 3 \t##结果是一个元素\n"
     ]
    }
   ],
   "source": [
    "l= [0, 1, 2, 3, 4, 5, 6, 7, 8, 9, 10]\n",
    "print(\"l[3:4:1]=\", l[3:4:1], \"\\t##结果是新的列表\") \n",
    "print(\"l[3]=\", l[3], \"\\t##结果是一个元素\") "
   ]
  },
  {
   "cell_type": "markdown",
   "metadata": {
    "deletable": false,
    "editable": false,
    "run_control": {
     "frozen": true
    }
   },
   "source": [
    "## 多维列表\n",
    "- 对于多维列表，使用逗号([xx,xx,xx])来分隔不同维度\n",
    "- 从左向右是从高维到低维\n",
    "- 要指定低纬度索引，必须先指定高纬度索引\n",
    "- 纬度索引可以显式指定，也可以用切片方式获得（此时可以指定多个索引值），例如可以使用[::]或者[:]取某一维度的所有索引"
   ]
  },
  {
   "cell_type": "code",
   "execution_count": 12,
   "metadata": {
    "deletable": false,
    "editable": false,
    "run_control": {
     "frozen": true
    }
   },
   "outputs": [
    {
     "name": "stdout",
     "output_type": "stream",
     "text": [
      "a= [[['000' '001']\n",
      "  ['010' '011']]\n",
      "\n",
      " [['100' '101']\n",
      "  ['110' '111']]]\n",
      "\n",
      "=============\n",
      "\n",
      "a[0,] \t\t\t(n1=0, n2和n3全部。n1使用索引，而不是切片，所以降维2维)\n",
      " [['000' '001']\n",
      " ['010' '011']]\n",
      "\n",
      "=============\n",
      "\n",
      "a[0,:] \t\t\t(n1=0, n2和n3全部。n1使用索引，而不是切片，所以降维2维)\n",
      " [['000' '001']\n",
      " ['010' '011']]\n",
      "\n",
      "=============\n",
      "\n",
      "a[0,:,:] \t\t\t(n1=0, n2和n3全部。n1使用索引，而不是切片，所以降维2维)\n",
      " [['000' '001']\n",
      " ['010' '011']]\n",
      "\n",
      "=============\n",
      "\n",
      "a[0:1,] \t\t\t(n1=0, n2和n3全部。n1使用切片，所以依旧是3维)\n",
      " [[['000' '001']\n",
      "  ['010' '011']]]\n",
      "\n",
      "=============\n",
      "\n",
      "a[0,0,0] \t\t\t(n1=0, n2=0, n3=0, 。n1,n2,n3索引，二不是用切片，所以降维)\n",
      " 000\n",
      "\n",
      "=============\n",
      "\n",
      "a[0:1,0:1,0:1] \t\t\t(n1=0, n2=0, n3=0, 。n1,n2,n3使用切片，所以依旧是3维)\n",
      " [[['000']]]\n",
      "\n",
      "=============\n",
      "\n"
     ]
    }
   ],
   "source": [
    "import numpy as np \n",
    "a = np.array([[[\"000\",  \"001\"],  [\"010\",  \"011\"]],[[\"100\",  \"101\"],  [\"110\",  \"111\"]]])  #三维列表\n",
    "print (\"a=\", a)\n",
    "print (\"\\n=============\\n\")\n",
    "\n",
    "print (\"a[0,]\", \"\\t\\t\\t(n1=0, n2和n3全部。n1使用索引，而不是切片，所以降维2维)\\n\", a[0,])\n",
    "print (\"\\n=============\\n\")\n",
    "\n",
    "print (\"a[0,:]\", \"\\t\\t\\t(n1=0, n2和n3全部。n1使用索引，而不是切片，所以降维2维)\\n\", a[0,:])\n",
    "print (\"\\n=============\\n\")\n",
    "\n",
    "print (\"a[0,:,:]\", \"\\t\\t\\t(n1=0, n2和n3全部。n1使用索引，而不是切片，所以降维2维)\\n\", a[0,:,:])\n",
    "print (\"\\n=============\\n\")\n",
    "\n",
    "print (\"a[0:1,]\", \"\\t\\t\\t(n1=0, n2和n3全部。n1使用切片，所以依旧是3维)\\n\", a[0:1,])\n",
    "print (\"\\n=============\\n\")\n",
    "\n",
    "print (\"a[0,0,0]\", \"\\t\\t\\t(n1=0, n2=0, n3=0, 。n1,n2,n3索引，二不是用切片，所以降维)\\n\", a[0,0,0])\n",
    "print (\"\\n=============\\n\")\n",
    "\n",
    "print (\"a[0:1,0:1,0:1]\", \"\\t\\t\\t(n1=0, n2=0, n3=0, 。n1,n2,n3使用切片，所以依旧是3维)\\n\", a[0:1,0:1,0:1])\n",
    "print (\"\\n=============\\n\")\n"
   ]
  },
  {
   "cell_type": "markdown",
   "metadata": {},
   "source": [
    "## 字符串"
   ]
  },
  {
   "cell_type": "code",
   "execution_count": null,
   "metadata": {},
   "outputs": [],
   "source": [
    "str='Runoob'\n",
    " \n",
    "print(str)                 # 输出字符串\n",
    "print(str + '   OK')        # 连接字符串\n",
    " \n",
    "print('hello\\nrunoob')      # 使用反斜杠(\\)+n转义特殊字符\n",
    "print(r'hello\\nrunoob')     # 在字符串前面添加一个 r，表示原始字符串，不会发生转义"
   ]
  },
  {
   "cell_type": "code",
   "execution_count": null,
   "metadata": {},
   "outputs": [],
   "source": [
    "input(\"\\n\\n按下 enter 键后退出。\")\n"
   ]
  },
  {
   "cell_type": "markdown",
   "metadata": {},
   "source": [
    "# print('hello\\nrunoob')  "
   ]
  },
  {
   "cell_type": "code",
   "execution_count": null,
   "metadata": {},
   "outputs": [],
   "source": [
    "import sys; x = 'runoob'; sys.stdout.write(x + '\\n')"
   ]
  },
  {
   "cell_type": "code",
   "execution_count": null,
   "metadata": {},
   "outputs": [],
   "source": [
    "a, b, c, d = 20, 5.5, True, 4+3j\n",
    "print(type(a), type(b), type(c), type(d))"
   ]
  },
  {
   "cell_type": "code",
   "execution_count": null,
   "metadata": {},
   "outputs": [],
   "source": [
    "class A:\n",
    "    pass\n",
    "class B(A):\n",
    "    pass"
   ]
  },
  {
   "cell_type": "code",
   "execution_count": null,
   "metadata": {},
   "outputs": [],
   "source": [
    "isinstance(A(), A)"
   ]
  },
  {
   "cell_type": "code",
   "execution_count": null,
   "metadata": {},
   "outputs": [],
   "source": [
    "type(A()) == A "
   ]
  },
  {
   "cell_type": "code",
   "execution_count": null,
   "metadata": {},
   "outputs": [],
   "source": [
    "isinstance(B(), A)"
   ]
  },
  {
   "cell_type": "code",
   "execution_count": null,
   "metadata": {},
   "outputs": [],
   "source": [
    "type(B()) == A\n"
   ]
  },
  {
   "cell_type": "code",
   "execution_count": null,
   "metadata": {},
   "outputs": [],
   "source": [
    "student = {'Tom', 'Jim', 'Mary', 'Tom', 'Jack', 'Rose'}\n",
    " \n",
    "print(student)   # 输出集合，重复的元素被自动去掉\n",
    " \n",
    "# 成员测试\n",
    "if 'Rose' in student :\n",
    "    print('Rose 在集合中')\n",
    "else :\n",
    "    print('Rose 不在集合中')\n",
    " \n",
    " \n",
    "# set可以进行集合运算\n",
    "a = set('abracadabra')\n",
    "b = set('alacazam')\n",
    " \n",
    "print(a)\n",
    " \n",
    "print(a - b)     # a 和 b 的差集\n",
    " \n",
    "print(a | b)     # a 和 b 的并集\n",
    " \n",
    "print(a & b)     # a 和 b 的交集\n",
    " \n",
    "print(a ^ b)     # a 和 b 中不同时存在的元素"
   ]
  },
  {
   "cell_type": "code",
   "execution_count": null,
   "metadata": {},
   "outputs": [],
   "source": [
    "dict = {}\n",
    "dict['one'] = \"1 - 菜鸟教程\"\n",
    "dict[2]     = \"2 - 菜鸟工具\"\n",
    " \n",
    "tinydict = {'name': 'runoob','code':1, 'site': 'www.runoob.com'}\n",
    " \n",
    "print (dict['one'])       # 输出键为 'one' 的值\n",
    "print (dict[2])           # 输出键为 2 的值\n",
    "print (tinydict)          # 输出完整的字典\n",
    "print (tinydict.keys())   # 输出所有键\n",
    "print (tinydict.values()) # 输出所有值"
   ]
  },
  {
   "cell_type": "code",
   "execution_count": null,
   "metadata": {},
   "outputs": [],
   "source": [
    "hello()"
   ]
  },
  {
   "cell_type": "code",
   "execution_count": null,
   "metadata": {},
   "outputs": [],
   "source": [
    "def hello() :\n",
    "   print(\"Hello World!1111111\")"
   ]
  },
  {
   "cell_type": "code",
   "execution_count": 21,
   "metadata": {},
   "outputs": [
    {
     "name": "stdout",
     "output_type": "stream",
     "text": [
      "名字:  runoob\n",
      "年龄:  50\n"
     ]
    },
    {
     "data": {
      "text/plain": [
       "0"
      ]
     },
     "execution_count": 21,
     "metadata": {},
     "output_type": "execute_result"
    }
   ],
   "source": [
    "#可写函数说明\n",
    "def printinfo( name, age ):\n",
    "   \"打印任何传入的字符串\"\n",
    "   print (\"名字: \", name)\n",
    "   print (\"年龄: \", age)\n",
    "   return 0\n",
    " \n",
    "#调用printinfo函数\n",
    "printinfo( age=50, name=\"runoob\" )"
   ]
  },
  {
   "cell_type": "code",
   "execution_count": null,
   "metadata": {},
   "outputs": [],
   "source": []
  },
  {
   "cell_type": "code",
   "execution_count": null,
   "metadata": {},
   "outputs": [],
   "source": [
    "printinfo( 50, \"runoob\" )"
   ]
  },
  {
   "cell_type": "code",
   "execution_count": null,
   "metadata": {},
   "outputs": [],
   "source": [
    "import datetime\n",
    "def getYesterday(): \n",
    "    today=datetime.date.today() \n",
    "    oneday=datetime.timedelta(days=1) \n",
    "    yesterday=today-oneday  \n",
    "    return yesterday\n",
    " \n",
    "# 输出\n",
    "print(getYesterday())"
   ]
  },
  {
   "cell_type": "code",
   "execution_count": 20,
   "metadata": {},
   "outputs": [],
   "source": [
    "%magic"
   ]
  },
  {
   "cell_type": "code",
   "execution_count": 19,
   "metadata": {},
   "outputs": [
    {
     "name": "stdout",
     "output_type": "stream",
     "text": [
      "d = !date/T  ##dos命令获取当前日期\n",
      "print(d)\n",
      "type(d)  ##注意，返回值的类型不是列表\n",
      "%%HTML\n",
      "<button onclick=\"$('.input, .prompt, .output_stderr, .output_error, .output_result').toggle();\">Toggle Code</button>\n",
      "# 单个#开头是单行注释\n",
      "# 第二个注释\n",
      " \n",
      "'''\n",
      "三个单引号用来开始和结束多行注释\n",
      "第三注释\n",
      "第四注释\n",
      "'''\n",
      " \n",
      "\"\"\"\n",
      "三个双引号用来开始和结束多行注释\n",
      "第五注释\n",
      "第六注释\n",
      "\"\"\"\n",
      "print (\"Hello, Python!\")\n",
      "# 单个#开头是单行注释\n",
      "# 第二个注释\n",
      " \n",
      "'''\n",
      "三个单引号用来开始和结束多行注释\n",
      "第三注释\n",
      "第四注释\n",
      "'''\n",
      " \n",
      "\"\"\"\n",
      "三个双引号用来开始和结束多行注释\n",
      "第五注释\n",
      "第六注释\n",
      "\"\"\"\n",
      "print (\"Hello, Python!\")\n",
      "l = [0,1,2,3,4,5];  \n",
      "\n",
      "print(\"l=\", l[:])\n",
      "print(\"l[0]=\", l[0], \"\\tl[3]=\", l[3])\n",
      "print(\"l[-1]=\", l[-1], \"\\tl[-2]=\", l[-2], \"\\tl[-6]=\", l[-6])\n",
      "l = [0, 1, 2, 3, 4, 5, 6, 7, 8, 9, 10]; \n",
      "print(\"l=\",l)\n",
      "print(\"l[1:9:1]=\", l[1:9:1]) \n",
      "print(\"l[1:9]=\", l[1:9]) \n",
      "print(\"l[1:9:2]=\", l[1:9:2])\n",
      "l = [0, 1, 2, 3, 4, 5, 6, 7, 8, 9, 10]; \n",
      "print(\"l=\",l)\n",
      "print(\"l[:3]=\", l[:3]) \n",
      "print(\"l[2:]=\", l[2:])\n",
      "l = [0, 1, 2, 3, 4, 5, 6, 7, 8, 9, 10]; \n",
      "print(\"l=\",l)\n",
      "print(\"l[:]=\", l[:]) \n",
      "print(\"l[::]=\", l[::])\n",
      "l = [0, 1, 2, 3, 4, 5, 6, 7, 8, 9, 10]; \n",
      "print(\"l=\",l)\n",
      "print(\"l[::-1]=\", l[::-1], \"##[start_index: stop_index: step]，step=-1\")\n",
      "print(\"l[:-1]=\", l[:-1], \"##[start_index: stop_index]，step=1\")\n",
      "l = [0, 1, 2, 3, 4, 5, 6, 7, 8, 9, 10]; \n",
      "print(\"l=\",l)\n",
      "print(\"l[3::1]=\", l[3::1], \"\\t\\t##正向，开始为3，结束不限定\") \n",
      "print(\"l[3::-1]=\", l[3::-1], \"\\t\\t\\t##反向，开始为3，结束不限定\") \n",
      "print(\"l[:3:1]=\", l[:3:1], \"\\t\\t\\t##正向，结束为3，开始不限定\") \n",
      "print(\"l[:3:-1]=\", l[:3:-1], \"\\t\\t##反向，结束为3，开始不限定\")\n",
      "l = [0, 1, 2, 3, 4, 5, 6, 7, 8, 9, 10]; \n",
      "print(\"l=\",l)\n",
      "print(\"l[3::1]=\", l[3::1], \"\\t\\t##正向，开始为3，结束不限定\") \n",
      "print(\"l[3::-1]=\", l[3::-1], \"\\t\\t\\t\\t##反向，开始为3，结束不限定\") \n",
      "print(\"l[:3:1]=\", l[:3:1], \"\\t\\t\\t\\t##正向，结束为3，开始不限定\") \n",
      "print(\"l[:3:-1]=\", l[:3:-1], \"\\t\\t##反向，结束为3，开始不限定\")\n",
      "import numpy as np \n",
      "a = np.array([[[\"000\",  \"001\"],  [\"010\",  \"011\"]],[[\"100\",  \"101\"],  [\"110\",  \"111\"]]])  #三维列表\n",
      "print (\"a=\", a)\n",
      "print (\"\\n=============\\n\")\n",
      "\n",
      "print (\"a[0,]\", \"\\t\\t\\t(n1=0, n2和n3全部。n1使用索引，而不是切片，所以降维2维)\\n\", a[0,])\n",
      "print (\"\\n=============\\n\")\n",
      "\n",
      "print (\"a[0,:]\", \"\\t\\t\\t(n1=0, n2和n3全部。n1使用索引，而不是切片，所以降维2维)\\n\", a[0,:])\n",
      "print (\"\\n=============\\n\")\n",
      "\n",
      "print (\"a[0,:,:]\", \"\\t\\t\\t(n1=0, n2和n3全部。n1使用索引，而不是切片，所以降维2维)\\n\", a[0,:,:])\n",
      "print (\"\\n=============\\n\")\n",
      "\n",
      "print (\"a[0:1,]\", \"\\t\\t\\t(n1=0, n2和n3全部。n1使用切片，所以依旧是3维)\\n\", a[0:1,])\n",
      "print (\"\\n=============\\n\")\n",
      "\n",
      "print (\"a[0,0,0]\", \"\\t\\t\\t(n1=0, n2=0, n3=0, 。n1,n2,n3索引，二不是用切片，所以降维)\\n\", a[0,0,0])\n",
      "print (\"\\n=============\\n\")\n",
      "\n",
      "print (\"a[0:1,0:1,0:1]\", \"\\t\\t\\t(n1=0, n2=0, n3=0, 。n1,n2,n3使用切片，所以依旧是3维)\\n\", a[0:1,0:1,0:1])\n",
      "print (\"\\n=============\\n\")\n",
      "# 单个#开头是单行注释\n",
      "# 第二个注释\n",
      " \n",
      "'''\n",
      "三个单引号用来开始和结束多行注释\n",
      "第三注释\n",
      "第四注释\n",
      "'''\n",
      " \n",
      "\"\"\"\n",
      "三个双引号用来开始和结束多行注释\n",
      "第五注释\n",
      "第六注释\n",
      "\"\"\"\n",
      "# 单个#开头是单行注释\n",
      "# 第二个注释\n",
      " \n",
      "'''\n",
      "三个单引号用来开始和结束多行注释\n",
      "第三注释\n",
      "第四注释\n",
      "'''\n",
      " \n",
      "\"\"\"\n",
      "三个双引号用来开始和结束多行注释\n",
      "第五注释\n",
      "第六注释\n",
      "\"\"\"\n",
      "print(\"hello\")\n",
      "if True:\n",
      "    print (\"True\")\n",
      "    print (\"False\")  \n",
      "else:\n",
      "    print (\"False\")\n",
      "# This is an example snippet!\n",
      "# To create your own, add a new snippet block to the\n",
      "# snippets.json file in your jupyter nbextensions directory:\n",
      "# /nbextensions/snippets/snippets.json\n",
      "import this\n",
      "!dir\n",
      "1+2\n",
      "%hist\n"
     ]
    }
   ],
   "source": [
    "%hist"
   ]
  },
  {
   "cell_type": "code",
   "execution_count": null,
   "metadata": {},
   "outputs": [],
   "source": [
    "%matplotlib inline\n",
    "import numpy as np\n",
    "import matplotlib.pyplot as plt\n",
    "import seaborn; \n",
    "from sklearn.linear_model import LinearRegression\n",
    "import pylab as pl\n",
    "\n",
    "seaborn.set()"
   ]
  },
  {
   "cell_type": "code",
   "execution_count": null,
   "metadata": {},
   "outputs": [],
   "source": [
    "# Create some simple data\n",
    "import numpy as np\n",
    "np.random.seed(0)\n",
    "X = np.random.random(size=(20, 1))\n",
    "y = 3 * X.squeeze() + 2 + np.random.randn(20)\n",
    "\n",
    "plt.plot(X.squeeze(), y, 'o');"
   ]
  },
  {
   "cell_type": "code",
   "execution_count": null,
   "metadata": {},
   "outputs": [],
   "source": [
    "import numpy as np \n",
    "a = np.array([1,  2,  3], dtype = complex)  \n",
    "print (a)"
   ]
  },
  {
   "cell_type": "code",
   "execution_count": null,
   "metadata": {},
   "outputs": [],
   "source": [
    "from __future__ import print_function\n",
    "import numpy as np\n",
    "from matplotlib import pyplot as plt\n",
    "from matplotlib.font_manager import FontProperties"
   ]
  }
 ],
 "metadata": {
  "kernelspec": {
   "display_name": "Python 3",
   "language": "python",
   "name": "python3"
  },
  "language_info": {
   "codemirror_mode": {
    "name": "ipython",
    "version": 3
   },
   "file_extension": ".py",
   "mimetype": "text/x-python",
   "name": "python",
   "nbconvert_exporter": "python",
   "pygments_lexer": "ipython3",
   "version": "3.7.0"
  },
  "toc": {
   "base_numbering": 1,
   "nav_menu": {},
   "number_sections": true,
   "sideBar": true,
   "skip_h1_title": false,
   "title_cell": "Table of Contents",
   "title_sidebar": "Contents",
   "toc_cell": false,
   "toc_position": {},
   "toc_section_display": true,
   "toc_window_display": true
  }
 },
 "nbformat": 4,
 "nbformat_minor": 2
}
