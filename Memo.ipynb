{
 "cells": [
  {
   "cell_type": "markdown",
   "metadata": {
    "deletable": false,
    "editable": false
   },
   "source": [
    "# Toggle"
   ]
  },
  {
   "cell_type": "code",
   "execution_count": 144,
   "metadata": {
    "collapsed": true,
    "deletable": false,
    "editable": false
   },
   "outputs": [
    {
     "data": {
      "text/html": [
       "<button onclick=\"$('.input, .prompt, .output_stderr, .output_error, .output_result').toggle();\">Toggle Code</button>"
      ],
      "text/plain": [
       "<IPython.core.display.HTML object>"
      ]
     },
     "metadata": {},
     "output_type": "display_data"
    }
   ],
   "source": [
    "%%HTML\n",
    "<button onclick=\"$('.input, .prompt, .output_stderr, .output_error, .output_result').toggle();\">Toggle Code</button>"
   ]
  },
  {
   "cell_type": "markdown",
   "metadata": {},
   "source": [
    "# Marhine Learning\n",
    "\n",
    "https://www.tinymind.cn/articles/74\n",
    "http://www.52nlp.cn/tag/%E6%B7%B1%E5%BA%A6%E5%AD%A6%E4%B9%A0%E8%AF%BE%E7%A8%8B%E4%BD%93%E9%AA%8C\n",
    "\n",
    "目前代码分成两个部分\n",
    "MachineLearning部分，保存在GitHub上。https://github.com/, 默认用户名和密码。\n",
    "DeepLearning部分，文件太大，无法在BitHub上，保存在Project\\Learning\\MachineLearning\\"
   ]
  },
  {
   "cell_type": "markdown",
   "metadata": {
    "deletable": false,
    "editable": false,
    "heading_collapsed": true
   },
   "source": [
    "# Python IDE"
   ]
  },
  {
   "cell_type": "markdown",
   "metadata": {
    "deletable": false,
    "editable": false,
    "heading_collapsed": true,
    "hidden": true
   },
   "source": [
    "## Eclipse + PyDev\n",
    "PyDev是一个功能强大的 Eclipse插件，使用户可用 Eclipse 来进行 Python 应用程序的开发和调试。PyDev 插件的出现方便了众多的 Python 开发人员，它提供了一些很好的功能，如：语法错误提示、源代码编辑助手、Quick Outline、Globals Browser、Hierarchy View、运行和调试等等。\n",
    "\n",
    "1) Open ellipse\n",
    "\n",
    "2) Help - Install New Software\n",
    "\n",
    "3) click add\n",
    "\n",
    "4) 输入 Name 和 Location，Name 随意，Location 为 http://pydev.org/updates ；点击OK\n",
    "\n",
    "5) 重启eclipe\n",
    "\n",
    "## [LiClipse](http://www.liclipse.com/)"
   ]
  },
  {
   "cell_type": "markdown",
   "metadata": {
    "deletable": false,
    "editable": false
   },
   "source": [
    "# Jupyter Notebook"
   ]
  },
  {
   "cell_type": "markdown",
   "metadata": {
    "deletable": false,
    "editable": false,
    "heading_collapsed": true
   },
   "source": [
    "## 安装配置"
   ]
  },
  {
   "cell_type": "markdown",
   "metadata": {
    "deletable": false,
    "editable": false,
    "heading_collapsed": true,
    "hidden": true
   },
   "source": [
    "### 安装Anaconda\n",
    "- 程序安装在C:\\MyPrograms\\Anaconda3\n",
    "- 要运行程序，运行start/Anaconda3(64bit)/jupyter notebook\n",
    "    - 启动后，会出现窗口，复制窗口中一下类似的字串到浏览器地址栏中http://localhost:8888/?token=534756d0523a0181a236a8980f5ba4a51e3e19260b2fd6b8\n",
    "    - 在浏览器中，找到想要运行的程序(浏览器的根目录是C:\\Users\\eyunxli)\n",
    "    - 使用Edge浏览器(由于浏览器快捷键(autohotkey)的限制，Edge没有被管理，所以Esc不会最小化浏览器。其他浏览器会被最小化并隐藏)\n",
    "    \n",
    "    \n",
    "### 使用pip安装组件\n",
    "- 执行windows start/Anaconda3(64it)/Anaconda promot\n",
    "- 在出现的窗口键入命令安装，例如"
   ]
  },
  {
   "cell_type": "markdown",
   "metadata": {
    "deletable": false,
    "editable": false
   },
   "source": [
    "## NBextensions\n",
    "- Notebook扩展是一些能帮助你轻松把想要的内容/功能添加进Jupyter Notebook的插件。安装扩展最好的方法是Jupyter NbExtensions Configurator，它提供了一系列标签，只需勾选相应插件就能自动载入。"
   ]
  },
  {
   "cell_type": "markdown",
   "metadata": {
    "deletable": false,
    "editable": false
   },
   "source": [
    "### 安装\n",
    "- 用conda安装：\n",
    "--conda install -c conda-forge jupyter_contrib_nbextensions\n",
    "    -conda install -c conda-forge jupyter_nbextensions_configurator    \n",
    "- 或者用pip：\n",
    "    -pip install jupyter_nbextensions_configurator jupyter_contrib_nbextensions    \n",
    "    -jupyter contrib nbextension install --user\n",
    "    \n",
    "-jupyter nbextensions_configurator enable --user"
   ]
  },
  {
   "cell_type": "markdown",
   "metadata": {
    "deletable": false,
    "editable": false
   },
   "source": [
    "### 标题折叠 Collapsible headings\n",
    "\n",
    "\n",
    "当你在处理一个大型的 notebooks 时，这项扩展非常有用，它可以让你隐藏部分内容。"
   ]
  },
  {
   "cell_type": "markdown",
   "metadata": {
    "deletable": false,
    "editable": false
   },
   "source": [
    "### 文档结构图 Table of Contents\n",
    "目录,可以将所有的heade标题栏收集起来,只对于已经运行的markdown类型的标题有效.通过目录可以进入指定链接. "
   ]
  },
  {
   "cell_type": "markdown",
   "metadata": {
    "deletable": false,
    "editable": false
   },
   "source": [
    "### Split Cells Notebook\n",
    "拆分笔记本中的单元格，改成相邻的模式，看起来就像分了两栏。"
   ]
  },
  {
   "cell_type": "markdown",
   "metadata": {
    "deletable": false,
    "editable": false
   },
   "source": [
    "### Variable Inspector 变量监视\n",
    "显示变量的值"
   ]
  },
  {
   "cell_type": "markdown",
   "metadata": {
    "deletable": false,
    "editable": false
   },
   "source": [
    "### 其他\n",
    "\n",
    "#### 通知 Notify\n",
    "当你长时间运行一个任务程序的时候，程序运行结束后，此扩展功能会自动提醒你。\n",
    "\n",
    "\n",
    "#### 进度条 tqdm_notebook\n",
    "\n",
    "tqdm 是一个 Python 的进度条库，在 jupyter notebook 中则被称之为 \"tqdm_notebook\"。自从在 nootbook 中加入了 tqdm_notebook 扩展功能，你再也不用担心其引发的混乱问题了。\n",
    "\n",
    "\n",
    "#### 插入代码 Snippets\n",
    "\n",
    "Snippets在工具栏里加了一个下拉菜单，可以非常方便的直接插入代码段，完全不用手动敲。\n",
    "\n",
    "%debug这个本质上也不是 notebook 的一个扩展，而是 IPython 中的一个魔法命令。\n",
    "%debug 魔法命令\n",
    "1. 得到了一个异常\n",
    "2. 重新插入一个新的输入框，输入 %debug，然后运行它\n",
    "交互式的调试方法可以打开并显示代码出现异常的语句，方便你联系前后程序查看具体情况。\n",
    "\n",
    "%Ismagic ：在输入框中运行这个命令，列出所有可用的 IPython 魔法命令\n",
    "zen mode 扩展： 隐藏菜单栏，让你更专注于代码\n",
    "Execute time 扩展：显示程序块运行的时间\n",
    "autoreload：在不重启 notebook 的情况下，自动载入外部文件，从而修改代码，具体操作如下："
   ]
  },
  {
   "cell_type": "markdown",
   "metadata": {
    "deletable": false,
    "editable": false
   },
   "source": [
    "## 放PPT"
   ]
  },
  {
   "cell_type": "markdown",
   "metadata": {
    "deletable": false,
    "editable": false
   },
   "source": [
    "### 默认方式\n",
    "一种方法是用Jupyter内置的PPT选项，依次点击菜单栏里的View → Cell Toolbar → Slideshow，之后每个单元格上面都会有一个灰色的横条，选Sub-Slide。\n",
    "然后输入以下代码：\n",
    "\n",
    "jupyter nbconvert *.ipynb --to slides --post serve  #insert your notebook name instead of *.ipynb"
   ]
  },
  {
   "cell_type": "markdown",
   "metadata": {
    "deletable": false,
    "editable": false
   },
   "source": [
    "### RISE插件\n",
    "RISE插件可以编辑执行。\n",
    "\n",
    "1) 安装RASE\n",
    "- conda install -c damianavila82 rise  \n",
    "或者\n",
    "- pip install RISE\n",
    "\n",
    "2)  install the JS and CSS in the proper place\n",
    "jupyter-nbextension install rise --py --sys-prefix\n",
    "jupyter-nbextension enable rise --py --sys-prefix\n",
    "\n",
    "3) 重启jupyter，就会发现RISE的插件在NBExtension中\n",
    "\n",
    "[参见](https://dataxujing.github.io/RISE-making-slides/)"
   ]
  },
  {
   "cell_type": "markdown",
   "metadata": {
    "deletable": false,
    "editable": false
   },
   "source": [
    "## 代码中嵌入内容"
   ]
  },
  {
   "cell_type": "markdown",
   "metadata": {
    "deletable": false,
    "editable": false
   },
   "source": [
    "### 嵌入网页"
   ]
  },
  {
   "cell_type": "code",
   "execution_count": 27,
   "metadata": {
    "collapsed": true,
    "deletable": false,
    "editable": false
   },
   "outputs": [
    {
     "data": {
      "text/html": [
       "\n",
       "        <iframe\n",
       "            width=\"800\"\n",
       "            height=\"450\"\n",
       "            src=\"https://en.wikipedia.org/wiki/HTTPS\"\n",
       "            frameborder=\"0\"\n",
       "            allowfullscreen\n",
       "        ></iframe>\n",
       "        "
      ],
      "text/plain": [
       "<IPython.lib.display.IFrame at 0x212b47f2a20>"
      ]
     },
     "execution_count": 27,
     "metadata": {},
     "output_type": "execute_result"
    }
   ],
   "source": [
    "#Note that http urls will not be displayed. Only https are allowed inside the Iframe\n",
    "from IPython.display import IFrame\n",
    "IFrame('https://en.wikipedia.org/wiki/HTTPS', width=800, height=450)"
   ]
  },
  {
   "cell_type": "markdown",
   "metadata": {
    "deletable": false,
    "editable": false
   },
   "source": [
    "### 嵌入pdf"
   ]
  },
  {
   "cell_type": "code",
   "execution_count": 28,
   "metadata": {
    "collapsed": true,
    "deletable": false,
    "editable": false
   },
   "outputs": [
    {
     "data": {
      "text/html": [
       "\n",
       "        <iframe\n",
       "            width=\"800\"\n",
       "            height=\"450\"\n",
       "            src=\"https://arxiv.org/pdf/1406.2661.pdf\"\n",
       "            frameborder=\"0\"\n",
       "            allowfullscreen\n",
       "        ></iframe>\n",
       "        "
      ],
      "text/plain": [
       "<IPython.lib.display.IFrame at 0x212b47f2518>"
      ]
     },
     "execution_count": 28,
     "metadata": {},
     "output_type": "execute_result"
    }
   ],
   "source": [
    "from IPython.display import IFrame\n",
    "IFrame('https://arxiv.org/pdf/1406.2661.pdf', width=800, height=450)"
   ]
  },
  {
   "cell_type": "markdown",
   "metadata": {
    "deletable": false,
    "editable": false
   },
   "source": [
    "### 嵌入文件链接"
   ]
  },
  {
   "cell_type": "code",
   "execution_count": 33,
   "metadata": {
    "deletable": false,
    "editable": false
   },
   "outputs": [
    {
     "data": {
      "text/html": [
       "<a href='README' target='_blank'>README</a><br>"
      ],
      "text/plain": [
       "C:\\Users\\eyunxli\\Documents\\GitHub\\PythonLearning\\README"
      ]
     },
     "execution_count": 33,
     "metadata": {},
     "output_type": "execute_result"
    }
   ],
   "source": [
    "from IPython.display import FileLink, FileLinks\n",
    "FileLink('README')"
   ]
  },
  {
   "cell_type": "markdown",
   "metadata": {
    "deletable": false,
    "editable": false
   },
   "source": [
    "## MD中嵌入内容"
   ]
  },
  {
   "cell_type": "markdown",
   "metadata": {
    "deletable": false,
    "editable": false
   },
   "source": [
    "### 嵌入图片\n",
    "![Alt](https://www.example.com/image.jpg)\n",
    "!(https://www.google.com/url?sa=i&source=images&cd=&cad=rja&uact=8&ved=2ahUKEwi3uMqhiYngAhVGXSwKHd5QBkgQjRx6BAgBEAU&url=https%3A%2F%2Fwww.python.org%2F&psig=AOvVaw0fMvSIoZ9toytPBoPgt2qC&ust=1548510492580241)"
   ]
  },
  {
   "cell_type": "markdown",
   "metadata": {
    "deletable": false,
    "editable": false
   },
   "source": [
    "### 嵌入链接\n",
    "This is an [example link](https://google.com)."
   ]
  },
  {
   "cell_type": "markdown",
   "metadata": {
    "deletable": false,
    "editable": false,
    "heading_collapsed": true
   },
   "source": [
    "### 嵌入代码块\n",
    "\n",
    "```\n",
    "bar()\n",
    "if()\n",
    "    else\n",
    "```"
   ]
  },
  {
   "cell_type": "markdown",
   "metadata": {
    "deletable": false,
    "editable": false
   },
   "source": [
    "### 嵌入数学公式\n",
    "可以使用LaTeX公式\n",
    "\n",
    "创建行内公式，例如 $\\Gamma(n) = (n-1)!\\quad\\forall n\\in\\mathbb N$。\n",
    "\n",
    "或者块级公式： $$ x = \\dfrac{-b \\pm \\sqrt{b^2 - 4ac}}{2a} $$"
   ]
  },
  {
   "cell_type": "markdown",
   "metadata": {
    "deletable": false,
    "editable": false
   },
   "source": [
    "## Qgrid\n",
    "Qgrid也是一个Jupyter的小部件，不过它主要用于数据帧，装上之后，就可以像操作Excel里的筛选功能一样，方便的处理数据。\n",
    "安装方法用pip安装：pip install qgrid\n",
    "jupyter nbextension enable --py --sys-prefix qgrid\n",
    "(# only required if you have not enabled the ipywidgets nbextension yet)\n",
    "jupyter nbextension enable --py --sys-prefix widgetsnbextension\n",
    "用conda安装：# only required if you have not added conda-forge to your channels yet\n",
    "conda config --add channels conda-forge\n",
    "conda install qgrid"
   ]
  },
  {
   "cell_type": "markdown",
   "metadata": {
    "deletable": false,
    "editable": false
   },
   "source": [
    "## 两种模式\n",
    "编辑模式(按键 Enter 开启)，命令模式(按键 Esc 开启)\n",
    "Jupyter Notebook 有两种键盘输入模式。\n",
    "编辑模式，允许你往单元中键入代码或文本；这时的单元框线是绿色的。\n",
    "命令模式，键盘输入运行程序命令；这时的单元框线是灰色。\n",
    "\n",
    "命令模式 (按键 Esc 开启)\n",
    "Enter: 转入编辑模式\n",
    "Shift-Enter: 运行本单元，选中下个单元\n",
    "Ctrl-Enter: 运行本单元\n",
    "Alt-Enter: 运行本单元，在其下插入新单元\n",
    "Y: 单元转入代码状态\n",
    "M:单元转入markdown状态\n",
    "R: 单元转入raw状态\n",
    "1: 设定 1 级标题\n",
    "2: 设定 2 级标题\n",
    "3: 设定 3 级标题\n",
    "4: 设定 4 级标题\n",
    "5: 设定 5 级标题\n",
    "6: 设定 6 级标题\n",
    "Up: 选中上方单元\n",
    "K: 选中上方单元\n",
    "Down: 选中下方单元\n",
    "J: 选中下方单元\n",
    "Shift-K: 扩大选中上方单元\n",
    "Shift-J: 扩大选中下方单元\n",
    "A: 在上方插入新单元\n",
    "B: 在下方插入新单元\n",
    "X: 剪切选中的单元\n",
    "C: 复制选中的单元\n",
    "Shift-V: 粘贴到上方单元\n",
    "V: 粘贴到下方单元\n",
    "Z: 恢复删除的最后一个单元\n",
    "D,D: 删除选中的单元\n",
    "Shift-M: 合并选中的单元\n",
    "Ctrl-S: 文件存盘\n",
    "S: 文件存盘\n",
    "L: 转换行号\n",
    "O: 转换输出\n",
    "Shift-O: 转换输出滚动\n",
    "Esc: 关闭页面\n",
    "Q: 关闭页面\n",
    "H: 显示快捷键帮助\n",
    "I,I: 中断Notebook内核\n",
    "0,0: 重启Notebook内核\n",
    "Shift: 忽略\n",
    "Shift-Space: 向上滚动\n",
    "Space: 向下滚动\n",
    "\n",
    "编辑模式 ( Enter 键启动)\n",
    "Tab: 代码补全或缩进\n",
    "Shift-Tab: 提示\n",
    "Ctrl-]: 缩进\n",
    "Ctrl-[: 解除缩进\n",
    "Ctrl-A: 全选\n",
    "Ctrl-Z: 复原\n",
    "Ctrl-Shift-Z: 再做\n",
    "Ctrl-Y: 再做\n",
    "Ctrl-Home: 跳到单元开头\n",
    "Ctrl-Up: 跳到单元开头\n",
    "Ctrl-End: 跳到单元末尾\n",
    "Ctrl-Down: 跳到单元末尾\n",
    "Ctrl-Left: 跳到左边一个字首\n",
    "Ctrl-Right: 跳到右边一个字首\n",
    "Ctrl-Backspace: 删除前面一个字\n",
    "Ctrl-Delete: 删除后面一个字\n",
    "Esc: 进入命令模式\n",
    "Ctrl-M: 进入命令模式\n",
    "Shift-Enter: 运行本单元，选中下一单元\n",
    "Ctrl-Enter: 运行本单元\n",
    "Alt-Enter: 运行本单元，在下面插入一单元\n",
    "Ctrl-Shift--: 分割单元\n",
    "Ctrl-Shift-Subtract: 分割单元\n",
    "Ctrl-S: 文件存盘\n",
    "Shift: 忽略\n",
    "Up: 光标上移或转入上一单元\n",
    "Down:光标下移或转入下一单元"
   ]
  },
  {
   "cell_type": "markdown",
   "metadata": {
    "deletable": false,
    "editable": false
   },
   "source": [
    "## 执行shell命令\n",
    "- 直接在命令之前放一个“!”，就能执行shell命令，并且可以返回shell的执行结果值"
   ]
  },
  {
   "cell_type": "code",
   "execution_count": 40,
   "metadata": {
    "deletable": false,
    "editable": false
   },
   "outputs": [
    {
     "name": "stdout",
     "output_type": "stream",
     "text": [
      "['19/01/29 ']\n"
     ]
    },
    {
     "data": {
      "text/plain": [
       "IPython.utils.text.SList"
      ]
     },
     "execution_count": 40,
     "metadata": {},
     "output_type": "execute_result"
    }
   ],
   "source": [
    "d = !date/T  ##dos命令获取当前日期\n",
    "print(d)\n",
    "type(d)  ##注意，返回值的类型不是列表"
   ]
  },
  {
   "cell_type": "markdown",
   "metadata": {
    "deletable": false,
    "editable": false
   },
   "source": [
    "## 表格\n",
    "可以是使用在线工具 [表格生成工具](https://www.tablesgenerator.com/markdown_tables)\n",
    "\n",
    "或者[用 Excel 生成和管理 Markdown 表格](http://moxfive.xyz/2015/10/31/excel-markdown-table/)\n",
    "\n",
    "asöfkaskf|asöfkaskf|asöfkaskf|asöfkaskf\n",
    "-|-|-|-\n",
    "lsflaksf|lsflaksf|lsflaksf|lsflaksf\n",
    "askflakf|askflakf|askflakf|askflakf\n",
    "askfaksfa|askfaksfa|askfaksfa|askfaksfa\n",
    "kfajfsaslfk|kfajfsaslfk|kfajfsaslfk|kfajfsaslfk\n",
    "asldfjalsflaslfklaskflkasfalskf|asldfjalsflaslfklaskflkasfalskf|asldfjalsflaslfklaskflkasfalskf|asldfjalsflaslfklaskflkasfalskf"
   ]
  },
  {
   "cell_type": "markdown",
   "metadata": {
    "deletable": false,
    "editable": false
   },
   "source": [
    "# Python"
   ]
  },
  {
   "cell_type": "markdown",
   "metadata": {
    "deletable": false,
    "editable": false
   },
   "source": [
    "## Python库\n",
    "NumPy：N维数组容器。以矩阵为基础的数学计算模块，纯数学。\n",
    "\n",
    "SciPy：基于Numpy，科学计算库，有一些高阶抽象和物理模型。比方说做个傅立叶变换，这是纯数学的，用Numpy；做个滤波器，这属于信号处理模型了，在Scipy里找。\n",
    "\n",
    "Pandas：表格容器，提供了一套名为DataFrame的数据结构，比较契合统计分析中的表结构，并且提供了计算接口，可用Numpy或其它方式进行计算。\n",
    "\n",
    "Matplotlib: 是一个 Python 2D 绘图库。GitHub 地址：https://github.com/matplotlib/matplotlib\n",
    "\n",
    "更多\n",
    "\n",
    "https://www.jianshu.com/p/b6379857e1af\n",
    "\n",
    "https://www.leiphone.com/news/201706/SP8YmNMNi2kSbUcE.html\n"
   ]
  },
  {
   "cell_type": "markdown",
   "metadata": {
    "deletable": false,
    "editable": false
   },
   "source": [
    "## 语法点\n",
    "\n",
    "### 注释\n",
    "单个#开头是单行注释;\n",
    "三个单引号(''')用来开始和结束多行注释\n",
    "三个双引号(\"\"\")用来开始和结束多行注释\n",
    "\n",
    "### 代码块\n",
    "Python 的代码块不使用大括号 {} 来控制类，函数以及其他逻辑判断，而是用缩进来写模块。\n",
    "代码块语句必须包含相同的缩进空白数量\n",
    "\n",
    "### 一条语句多行显示\n",
    "Python语句中一般以新行作为语句的结束符。\n",
    "但是可以使用斜杠（ \\）将一行的语句分为多行显示，如下所示：\n",
    "total = item_one + \\\n",
    "\n",
    "        item_two + \\\n",
    "        \n",
    "        item_three\n",
    "\n",
    "语句中包含 [], {} 或 () 括号就不需要使用多行连接符。如下实例：\n",
    "days = ['Monday', 'Tuesday', 'Wednesday',\n",
    "        'Thursday', 'Friday']\n",
    "        \n",
    "\n",
    "### 同一行显示多条语句\n",
    "可以在同一行中使用多条语句，语句之间使用分号(;)分割\n",
    "\n",
    "import sys; x = 'runoob'; sys.stdout.write(x + '\\n')\n",
    "\n",
    "### 引号\n",
    "可以使用引号( ' )、双引号( \" )、三引号( ''' 或 \"\"\" ) 来表示字符串，引号的开始与结束必须的相同类型的。\n",
    "\n",
    "其中三引号可以由多行组成，编写多行文本（注意，三引号在句首会被当做注释）。\n",
    "\n",
    "### [函数](https://www.jianshu.com/p/4e1e49eb72b3)"
   ]
  },
  {
   "cell_type": "markdown",
   "metadata": {
    "deletable": false,
    "editable": false,
    "heading_collapsed": true
   },
   "source": [
    "### 字符串"
   ]
  },
  {
   "cell_type": "code",
   "execution_count": 46,
   "metadata": {
    "deletable": false,
    "editable": false,
    "hidden": true
   },
   "outputs": [
    {
     "name": "stdout",
     "output_type": "stream",
     "text": [
      "Runoob\n",
      "Runoob   OK\n",
      "hello\n",
      "runoob\n",
      "hello\\nrunoob\n"
     ]
    }
   ],
   "source": [
    "str='Runoob'\n",
    " \n",
    "print(str)                 # 输出字符串\n",
    "print(str + '   OK')        # 连接字符串\n",
    " \n",
    "print('hello\\nrunoob')      # 使用反斜杠(\\)+n转义特殊字符\n",
    "print(r'hello\\nrunoob')     # 在字符串前面添加一个 r，表示原始字符串，不会发生转义"
   ]
  },
  {
   "cell_type": "markdown",
   "metadata": {
    "deletable": false,
    "editable": false
   },
   "source": [
    "## 序列\n",
    "Python有6个序列的内置类型，但最常见的是列表和元组。"
   ]
  },
  {
   "cell_type": "markdown",
   "metadata": {
    "deletable": false,
    "editable": false
   },
   "source": [
    "### 序列索引（下标）\n",
    "- 索引从0开始\n",
    "- 索引可以反向使用，最后一个（倒数第一个）的下标是-1"
   ]
  },
  {
   "cell_type": "code",
   "execution_count": 5,
   "metadata": {
    "deletable": false,
    "editable": false
   },
   "outputs": [
    {
     "name": "stdout",
     "output_type": "stream",
     "text": [
      "l= [0, 1, 2, 3, 4, 5]\n",
      "l[0]= 0 \tl[3]= 3\n",
      "l[-1]= 5 \tl[-2]= 4 \tl[-6]= 0\n"
     ]
    }
   ],
   "source": [
    "l = [0,1,2,3,4,5];  \n",
    "\n",
    "print(\"l=\", l[:])\n",
    "print(\"l[0]=\", l[0], \"\\tl[3]=\", l[3])\n",
    "print(\"l[-1]=\", l[-1], \"\\tl[-2]=\", l[-2], \"\\tl[-6]=\", l[-6])  "
   ]
  },
  {
   "cell_type": "markdown",
   "metadata": {
    "deletable": false,
    "editable": false
   },
   "source": [
    "### 序列切片\n",
    "- 切片的本质是索引过滤，从原始序列的所有索引中，指定某个或者某些索引\n",
    "- 通常一个切片操作要提供三个参数 [start_index:  stop_index:  step]\n",
    "    - start_index是切片的起始位置（包括）. start_index置为空时，表示无限制，就是说可以从所有可能位置作为开始\n",
    "    - stop_index是切片的结束位置（不包括）. stop_index置为空时，表示无限制，就是说可以从所有可能位置作为结束\n",
    "    - step是切片步长。step置为空时，表示step=1 \n",
    "- start_index和stop_index本质上就是序列索引。序列索引的所有规则都适用。\n",
    "- start_index,stop_index,step不论是正数还是负数索引还是混用都可以\n",
    "- 切片操作也可以只提供两个参数[start_index:  stop_index]，此时step默认为1\n",
    "- [::]和[:]都表示切片所有元素\n",
    "- step取正数，表示从前向后的顺序切片。取负数，表示从后向前的顺序切片。\n",
    "- step取值不影响start_index和stop_index的解读。\n"
   ]
  },
  {
   "cell_type": "code",
   "execution_count": 6,
   "metadata": {
    "deletable": false,
    "editable": false
   },
   "outputs": [
    {
     "name": "stdout",
     "output_type": "stream",
     "text": [
      "l= [0, 1, 2, 3, 4, 5, 6, 7, 8, 9, 10]\n",
      "l[1:9:1]= [1, 2, 3, 4, 5, 6, 7, 8]\n",
      "l[1:9]= [1, 2, 3, 4, 5, 6, 7, 8]\n",
      "l[1:9:2]= [1, 3, 5, 7]\n"
     ]
    }
   ],
   "source": [
    "l = [0, 1, 2, 3, 4, 5, 6, 7, 8, 9, 10]; \n",
    "print(\"l=\",l)\n",
    "print(\"l[1:9:1]=\", l[1:9:1]) \n",
    "print(\"l[1:9]=\", l[1:9]) \n",
    "print(\"l[1:9:2]=\", l[1:9:2]) "
   ]
  },
  {
   "cell_type": "code",
   "execution_count": 7,
   "metadata": {
    "deletable": false,
    "editable": false
   },
   "outputs": [
    {
     "name": "stdout",
     "output_type": "stream",
     "text": [
      "l= [0, 1, 2, 3, 4, 5, 6, 7, 8, 9, 10]\n",
      "l[:3]= [0, 1, 2]\n",
      "l[2:]= [2, 3, 4, 5, 6, 7, 8, 9, 10]\n"
     ]
    }
   ],
   "source": [
    "l = [0, 1, 2, 3, 4, 5, 6, 7, 8, 9, 10]; \n",
    "print(\"l=\",l)\n",
    "print(\"l[:3]=\", l[:3]) \n",
    "print(\"l[2:]=\", l[2:]) "
   ]
  },
  {
   "cell_type": "code",
   "execution_count": 8,
   "metadata": {
    "deletable": false,
    "editable": false
   },
   "outputs": [
    {
     "name": "stdout",
     "output_type": "stream",
     "text": [
      "l= [0, 1, 2, 3, 4, 5, 6, 7, 8, 9, 10]\n",
      "l[:]= [0, 1, 2, 3, 4, 5, 6, 7, 8, 9, 10]\n",
      "l[::]= [0, 1, 2, 3, 4, 5, 6, 7, 8, 9, 10]\n"
     ]
    }
   ],
   "source": [
    "l = [0, 1, 2, 3, 4, 5, 6, 7, 8, 9, 10]; \n",
    "print(\"l=\",l)\n",
    "print(\"l[:]=\", l[:]) \n",
    "print(\"l[::]=\", l[::]) "
   ]
  },
  {
   "cell_type": "code",
   "execution_count": 9,
   "metadata": {
    "deletable": false,
    "editable": false
   },
   "outputs": [
    {
     "name": "stdout",
     "output_type": "stream",
     "text": [
      "l= [0, 1, 2, 3, 4, 5, 6, 7, 8, 9, 10]\n",
      "l[::-1]= [10, 9, 8, 7, 6, 5, 4, 3, 2, 1, 0] ##[start_index: stop_index: step]，step=-1\n",
      "l[:-1]= [0, 1, 2, 3, 4, 5, 6, 7, 8, 9] ##[start_index: stop_index]，step=1\n"
     ]
    }
   ],
   "source": [
    "l = [0, 1, 2, 3, 4, 5, 6, 7, 8, 9, 10]; \n",
    "print(\"l=\",l)\n",
    "print(\"l[::-1]=\", l[::-1], \"##[start_index: stop_index: step]，step=-1\")\n",
    "print(\"l[:-1]=\", l[:-1], \"##[start_index: stop_index]，step=1\")"
   ]
  },
  {
   "cell_type": "code",
   "execution_count": 11,
   "metadata": {
    "deletable": false,
    "editable": false
   },
   "outputs": [
    {
     "name": "stdout",
     "output_type": "stream",
     "text": [
      "l= [0, 1, 2, 3, 4, 5, 6, 7, 8, 9, 10]\n",
      "l[3::1]= [3, 4, 5, 6, 7, 8, 9, 10] \t\t##正向，开始为3，结束不限定\n",
      "l[3::-1]= [3, 2, 1, 0] \t\t\t\t##反向，开始为3，结束不限定\n",
      "l[:3:1]= [0, 1, 2] \t\t\t\t##正向，结束为3，开始不限定\n",
      "l[:3:-1]= [10, 9, 8, 7, 6, 5, 4] \t\t##反向，结束为3，开始不限定\n"
     ]
    }
   ],
   "source": [
    "l = [0, 1, 2, 3, 4, 5, 6, 7, 8, 9, 10]; \n",
    "print(\"l=\",l)\n",
    "print(\"l[3::1]=\", l[3::1], \"\\t\\t##正向，开始为3，结束不限定\") \n",
    "print(\"l[3::-1]=\", l[3::-1], \"\\t\\t\\t\\t##反向，开始为3，结束不限定\") \n",
    "print(\"l[:3:1]=\", l[:3:1], \"\\t\\t\\t\\t##正向，结束为3，开始不限定\") \n",
    "print(\"l[:3:-1]=\", l[:3:-1], \"\\t\\t##反向，结束为3，开始不限定\") "
   ]
  },
  {
   "cell_type": "markdown",
   "metadata": {
    "deletable": false,
    "editable": false
   },
   "source": [
    "### 序列切片 vs 序列索引\n",
    "- 序列切片的结果是一个新的序列，序列索引的结果是序列中的一个元素"
   ]
  },
  {
   "cell_type": "code",
   "execution_count": 52,
   "metadata": {
    "deletable": false,
    "editable": false
   },
   "outputs": [
    {
     "name": "stdout",
     "output_type": "stream",
     "text": [
      "l[3:4:1]= [3] \t##结果是新的列表\n",
      "l[3]= 3 \t##结果是一个元素\n"
     ]
    }
   ],
   "source": [
    "l= [0, 1, 2, 3, 4, 5, 6, 7, 8, 9, 10]\n",
    "print(\"l[3:4:1]=\", l[3:4:1], \"\\t##结果是新的列表\") \n",
    "print(\"l[3]=\", l[3], \"\\t##结果是一个元素\") "
   ]
  },
  {
   "cell_type": "markdown",
   "metadata": {
    "deletable": false,
    "editable": false
   },
   "source": [
    "### 多维序列\n",
    "- 对于多维序列，使用逗号([xx,xx,xx])来分隔不同维度\n",
    "- 从左向右是从高维到低维\n",
    "- 要指定低纬度索引，必须先指定高纬度索引\n",
    "- 纬度索引可以显式指定，也可以用切片方式获得（此时可以指定多个索引值），例如可以使用[::]或者[:]取某一维度的所有索引"
   ]
  },
  {
   "cell_type": "code",
   "execution_count": 12,
   "metadata": {
    "deletable": false,
    "editable": false,
    "scrolled": true
   },
   "outputs": [
    {
     "name": "stdout",
     "output_type": "stream",
     "text": [
      "a= [[['000' '001']\n",
      "  ['010' '011']]\n",
      "\n",
      " [['100' '101']\n",
      "  ['110' '111']]]\n",
      "\n",
      "=============\n",
      "\n",
      "a[0,] \t\t\t(n1=0, n2和n3全部。n1使用索引，而不是切片，所以降维2维)\n",
      " [['000' '001']\n",
      " ['010' '011']]\n",
      "\n",
      "=============\n",
      "\n",
      "a[0,:] \t\t\t(n1=0, n2和n3全部。n1使用索引，而不是切片，所以降维2维)\n",
      " [['000' '001']\n",
      " ['010' '011']]\n",
      "\n",
      "=============\n",
      "\n",
      "a[0,:,:] \t\t\t(n1=0, n2和n3全部。n1使用索引，而不是切片，所以降维2维)\n",
      " [['000' '001']\n",
      " ['010' '011']]\n",
      "\n",
      "=============\n",
      "\n",
      "a[0:1,] \t\t\t(n1=0, n2和n3全部。n1使用切片，所以依旧是3维)\n",
      " [[['000' '001']\n",
      "  ['010' '011']]]\n",
      "\n",
      "=============\n",
      "\n",
      "a[0,0,0] \t\t\t(n1=0, n2=0, n3=0, 。n1,n2,n3索引，二不是用切片，所以降维)\n",
      " 000\n",
      "\n",
      "=============\n",
      "\n",
      "a[0:1,0:1,0:1] \t\t\t(n1=0, n2=0, n3=0, 。n1,n2,n3使用切片，所以依旧是3维)\n",
      " [[['000']]]\n",
      "\n",
      "=============\n",
      "\n"
     ]
    }
   ],
   "source": [
    "import numpy as np \n",
    "a = np.array([[[\"000\",  \"001\"],  [\"010\",  \"011\"]],[[\"100\",  \"101\"],  [\"110\",  \"111\"]]])  #三维列表\n",
    "print (\"a=\", a)\n",
    "print (\"\\n=============\\n\")\n",
    "\n",
    "print (\"a[0,]\", \"\\t\\t\\t(n1=0, n2和n3全部。n1使用索引，而不是切片，所以降维2维)\\n\", a[0,])\n",
    "print (\"\\n=============\\n\")\n",
    "\n",
    "print (\"a[0,:]\", \"\\t\\t\\t(n1=0, n2和n3全部。n1使用索引，而不是切片，所以降维2维)\\n\", a[0,:])\n",
    "print (\"\\n=============\\n\")\n",
    "\n",
    "print (\"a[0,:,:]\", \"\\t\\t\\t(n1=0, n2和n3全部。n1使用索引，而不是切片，所以降维2维)\\n\", a[0,:,:])\n",
    "print (\"\\n=============\\n\")\n",
    "\n",
    "print (\"a[0:1,]\", \"\\t\\t\\t(n1=0, n2和n3全部。n1使用切片，所以依旧是3维)\\n\", a[0:1,])\n",
    "print (\"\\n=============\\n\")\n",
    "\n",
    "print (\"a[0,0,0]\", \"\\t\\t\\t(n1=0, n2=0, n3=0, 。n1,n2,n3索引，二不是用切片，所以降维)\\n\", a[0,0,0])\n",
    "print (\"\\n=============\\n\")\n",
    "\n",
    "print (\"a[0:1,0:1,0:1]\", \"\\t\\t\\t(n1=0, n2=0, n3=0, 。n1,n2,n3使用切片，所以依旧是3维)\\n\", a[0:1,0:1,0:1])\n",
    "print (\"\\n=============\\n\")\n"
   ]
  },
  {
   "cell_type": "markdown",
   "metadata": {
    "deletable": false,
    "editable": false
   },
   "source": [
    "## 元组和列表\n",
    "\n",
    "Python 的元组与列表类似，不同之处在于元组的元素不能修改(元组中的元素值是不允许修改的，但我们可以对元组进行连接组合)。\n",
    "\n",
    "元组使用小括号，列表使用方括号。\n",
    "\n",
    "列表(元组)的数据项不需要具有相同的类型\n",
    "\n",
    "空列表l=[]\n",
    "\n",
    "空元组t=()\n",
    "\n",
    "元组中只包含一个元素时，需要在元素后面添加逗号，否则括号会被当作运算符使用"
   ]
  },
  {
   "cell_type": "code",
   "execution_count": 13,
   "metadata": {
    "deletable": false,
    "editable": false,
    "scrolled": true
   },
   "outputs": [
    {
     "name": "stdout",
     "output_type": "stream",
     "text": [
      "(50, 'abc', 'aded')\n",
      "[50, 'abc', 'aded']\n"
     ]
    }
   ],
   "source": [
    "tup1 = (50, \"abc\", 'aded')\n",
    "print(tup1)\n",
    "\n",
    "list1 = [50, \"abc\", 'aded']\n",
    "print(list1)"
   ]
  },
  {
   "cell_type": "code",
   "execution_count": 11,
   "metadata": {
    "deletable": false,
    "editable": false
   },
   "outputs": [
    {
     "name": "stdout",
     "output_type": "stream",
     "text": [
      "<class 'int'>\n",
      "<class 'tuple'>\n"
     ]
    }
   ],
   "source": [
    "tup1 = (50)\n",
    "print(type(tup1))     # 不加逗号，类型为整型\n",
    " \n",
    "tup2 = (50,)\n",
    "print(type(tup2))     # 加逗号，类型为元组"
   ]
  },
  {
   "cell_type": "markdown",
   "metadata": {
    "deletable": false,
    "editable": false
   },
   "source": [
    "## 字典\n",
    "\n",
    "\n",
    "字典的每个键值(key=>value)对用冒号(:)分割，每个对之间用逗号(,)分割，整个字典包括在花括号({})中 ,格式如下所示：d = {key1 : value1, key2 : value2 }\n",
    "\n",
    "键必须是唯一的，但值则不必。\n",
    "\n",
    "值可以取任何数据类型，但键必须是不可变的，如字符串，数字或元组。"
   ]
  },
  {
   "cell_type": "code",
   "execution_count": 29,
   "metadata": {
    "deletable": false,
    "editable": false,
    "scrolled": true
   },
   "outputs": [
    {
     "name": "stdout",
     "output_type": "stream",
     "text": [
      "dict['Name']:  Runoob \t\t#访问字典\n",
      "dict['Age']:  7 \t\t#访问字典\n",
      "dict['Name']:  new name \t\t#修改字典\n",
      "dict['Address']:  Street \t\t#增加新键值\n",
      "dict[(1,2,3)]:  (1, 2, 3) \t\t#元组可以作为键和值\n",
      "dict[(1,2)]:  [1, 2] \t\t#列表只能作为值，不能作为键\n",
      "{'Age': 7, 'Class': 'First', 'Address': 'Street', (1, 2, 3): (1, 2, 3), (1, 2): [1, 2]}\n",
      "{}\n"
     ]
    }
   ],
   "source": [
    "dict = {'Name': 'Runoob', 'Age': 7, 'Class': 'First'}\n",
    " \n",
    "print (\"dict['Name']: \", dict['Name'], \"\\t\\t#访问字典\")\n",
    "print (\"dict['Age']: \", dict['Age'], \"\\t\\t#访问字典\")\n",
    "\n",
    "dict['Name'] = \"new name\"\n",
    "print (\"dict['Name']: \", dict['Name'], \"\\t\\t#修改字典\")\n",
    "\n",
    "dict['Address'] = \"Street\"\n",
    "print (\"dict['Address']: \", dict['Address'], \"\\t\\t#增加新键值\")\n",
    "\n",
    "dict[(1,2, 3)] = (1,2, 3)\n",
    "print (\"dict[(1,2,3)]: \", dict[(1, 2,3)], \"\\t\\t#元组可以作为键和值\")\n",
    "\n",
    "dict[(1,2)] = [1,2]\n",
    "print (\"dict[(1,2)]: \", dict[(1, 2)], \"\\t\\t#列表只能作为值，不能作为键\")\n",
    "\n",
    "del dict['Name'] # 删除键 'Name'\n",
    "print(dict)\n",
    "\n",
    "dict.clear()     # 清空字典\n",
    "print(dict)\n",
    "\n",
    "del dict         # 删除字典"
   ]
  },
  {
   "cell_type": "markdown",
   "metadata": {
    "deletable": false,
    "editable": false
   },
   "source": [
    "## 集合\n",
    "集合（set）是一个无序的不重复元素序列。\n",
    "\n",
    "可以使用大括号 { } 或者 set() 函数创建集合，注意：创建一个空集合必须用 set() 而不是 { }，因为 { } 是用来创建一个空字典。\n",
    "\n",
    "创建格式：\n",
    "\n",
    "parame = {value01,value02,...}\n",
    "或者\n",
    "set(value)"
   ]
  },
  {
   "cell_type": "code",
   "execution_count": 30,
   "metadata": {
    "deletable": false,
    "editable": false
   },
   "outputs": [
    {
     "name": "stdout",
     "output_type": "stream",
     "text": [
      "{'orange', 'banana', 'apple', 'pear'}\n",
      "True\n",
      "False\n",
      "{'a', 'b', 'r', 'c', 'd'}\n",
      "{'a', 'l', 'z', 'm', 'c'}\n",
      "{'d', 'b', 'r'}\n",
      "{'a', 'b', 'l', 'r', 'z', 'm', 'c', 'd'}\n",
      "{'a', 'c'}\n",
      "{'m', 'b', 'z', 'd', 'l', 'r'}\n"
     ]
    }
   ],
   "source": [
    "basket = {'apple', 'orange', 'apple', 'pear', 'orange', 'banana'}\n",
    "print(basket)                      # 这里演示的是去重功能\n",
    "print('orange' in basket)                 # 快速判断元素是否在集合内\n",
    "print('crabgrass' in basket)\n",
    " \n",
    "# 下面展示两个集合间的运算.\n",
    "a = set('abracadabra')\n",
    "b = set('alacazam')\n",
    "print(a)\n",
    "print(b)\n",
    "print( a - b )                              # 集合a中包含而集合b中不包含的元素\n",
    "print( a | b )                             # 集合a或b中包含的所有元素\n",
    "print( a & b )                             # 集合a和b中都包含了的元素\n",
    "print(a ^ b)                              # 不同时包含于a和b的元素"
   ]
  },
  {
   "cell_type": "markdown",
   "metadata": {
    "deletable": false,
    "editable": false
   },
   "source": [
    "## 推导式\n",
    "推导式comprehensions（又称解析式），可以从一个数据序列构建另一个新的数据序列的结构体。共有三种推导式：\n",
    "\n",
    "- 列表(list)推导式\n",
    "- 字典(dict)推导式\n",
    "- 集合(set)推导式"
   ]
  },
  {
   "cell_type": "markdown",
   "metadata": {
    "deletable": false,
    "editable": false
   },
   "source": [
    "### 列表推导式\n",
    "- 使用[]生成list\n",
    "\n",
    "基本格式：\n",
    "variable = [out_exp_res   for   out_exp   in   input_list   if   out_exp]\n",
    "\n",
    "variable = [out_exp_res   for   out_exp   in   input_list]\n",
    "\n",
    "    -out_exp_res：列表生成元素表达式，可以是有返回值的函数。\n",
    "\n",
    "    -for out_exp in input_list：迭代input_list将out_exp传入out_exp_res表达式中。\n",
    "\n",
    "    -if out_exp：根据条件过滤哪些值可以。此条件可以省略。\n",
    "    \n",
    "    \n",
    "\n",
    "- 使用()生成generator\n",
    "将上述两表推导式的[]改成()，即可得到生成器。"
   ]
  },
  {
   "cell_type": "code",
   "execution_count": 35,
   "metadata": {
    "deletable": false,
    "editable": false
   },
   "outputs": [
    {
     "name": "stdout",
     "output_type": "stream",
     "text": [
      "['ALICE', 'JERRY', 'WENDY', 'SMITH']\n",
      "['00:00', '00:30', '01:00', '01:30', '02:00', '02:30', '03:00', '03:30', '04:00', '04:30', '05:00', '05:30', '06:00', '06:30', '07:00', '07:30', '08:00', '08:30', '09:00', '09:30', '10:00', '10:30', '11:00', '11:30', '12:00', '12:30', '13:00', '13:30', '14:00', '14:30', '15:00', '15:30', '16:00', '16:30', '17:00', '17:30', '18:00', '18:30', '19:00', '19:30', '20:00', '20:30', '21:00', '21:30', '22:00', '22:30', '23:00', '23:30']\n",
      "[(0, 1), (0, 3), (2, 1), (2, 3), (4, 1), (4, 3)]\n",
      "[3, 6, 9]\n",
      "[3, 6, 9]\n",
      "[1, 5, 9]\n",
      "[2, 4, 6, 12, 15, 18, 28, 32, 36]\n",
      "[[2, 4, 6], [12, 15, 18], [28, 32, 36]]\n",
      "[[2, 12, 28], [4, 15, 32], [6, 18, 36]]\n",
      "[42, 145]\n",
      "[0, 3, 6, 9, 12, 15, 18, 21, 24, 27]\n",
      "[0, 9, 36, 81, 144, 225, 324, 441, 576, 729]\n"
     ]
    }
   ],
   "source": [
    "#过滤掉长度小于3的字符串列表，并将剩下的转换成大写字母\n",
    "names = ['Bob','Tom','alice','Jerry','Wendy','Smith'] \n",
    "print([name.upper() for name in names if len(name)>3] )\n",
    "\n",
    "#生成间隔30分钟的时间列表序列\n",
    "print([\"%02d:%02d\"%(h,m) for h in range(0, 24) for m in range(0, 60, 30)])\n",
    "\n",
    "#求(x, y)，其中x是0-5之间的偶数，y是0-5之间的奇数组成的元祖列表\n",
    "print([(x,y) for x in range(5) if x%2==0 for y in range(5) if y%2==1] )\n",
    "\n",
    "\n",
    "#求M中3, 6, 9组成的列表\n",
    "M = [[1,2,3], [4,5,6], [7,8,9]] \n",
    "print([row[2] for row in M]  )        # [3, 6, 9] \n",
    "\n",
    "# 或者用下面的方式 \n",
    "\n",
    "print([M[row][2] for row in (0, 1, 2)] ) # [3, 6, 9]\n",
    "\n",
    "#求M中斜线1, 5, 9组成的列表\n",
    "M = [[1, 2, 3], [4, 5, 6], [7, 8, 9]] \n",
    "\n",
    "print([M[i][i] for i in range(len(M))])   # 打印M[0][0], M[1][1], M[2][2]\n",
    "\n",
    "#求M, N中矩阵和元素的乘积\n",
    "M = [[1,2,3],[4,5,6],[7,8,9]] \n",
    "N = [[2,2,2],[3,3,3],[4,4,4]] \n",
    "\n",
    "print([M[row][col]*N[row][col] for row in range(3) for col in range(3)] )\n",
    "print([[M[row][col]*N[row][col] for col in range(3)] for row in range(3)] )\n",
    "\n",
    "print([[M[row][col]*N[row][col] for row in range(3)] for col in range(3)] )\n",
    "\n",
    "#把字典中age键，按照条件赋新值\n",
    "bob = {'pay': 3000, 'job': 'dev', 'age': 42, 'name': 'Bob Smith'} \n",
    "sue = {'pay': 4000, 'job': 'hdw', 'age': 45, 'name': 'Sue Jones'} \n",
    "people = [bob, sue] \n",
    "print([rec['age']+100 if rec['age'] >= 45 else rec['age'] for rec in people]) # 注意for位置 \n",
    "\n",
    "\n",
    "multiples = [i for i in range(30) if i%3 == 0]\n",
    "print(multiples)\n",
    "\n",
    "def squared(x):\n",
    "    return x*x\n",
    "multiples = [squared(i) for i in range(30) if i%3 == 0]\n",
    "print(multiples)"
   ]
  },
  {
   "cell_type": "code",
   "execution_count": 36,
   "metadata": {
    "deletable": false,
    "editable": false
   },
   "outputs": [
    {
     "name": "stdout",
     "output_type": "stream",
     "text": [
      "<generator object <genexpr> at 0x000001F882478840>\n",
      "<class 'generator'>\n"
     ]
    }
   ],
   "source": [
    "multiples = (i for i in range(30) if i%3 == 0)\n",
    "print(multiples)\n",
    "print(type(multiples))"
   ]
  },
  {
   "cell_type": "markdown",
   "metadata": {
    "deletable": false,
    "editable": false
   },
   "source": [
    "### 字典推导式\n",
    "\n",
    "字典推导和列表推导的使用类似，只不过中括号改成大括号。\n",
    "\n",
    "基本格式：{ key_expr: value_expr for value in collection if condition }"
   ]
  },
  {
   "cell_type": "code",
   "execution_count": 37,
   "metadata": {
    "deletable": false,
    "editable": false
   },
   "outputs": [
    {
     "name": "stdout",
     "output_type": "stream",
     "text": [
      "{'import': 0, 'is': 1, 'with': 2, 'if': 3, 'file': 4, 'exception': 5}\n",
      "{'a': 17, 'b': 34}\n",
      "{10: 'a', 34: 'b'}\n"
     ]
    }
   ],
   "source": [
    "#用字符串和其长度创建字典\n",
    "strings = ['import','is','with','if','file','exception']\n",
    "D = {key: val for val,key in enumerate(strings)}\n",
    "\n",
    "print(D)\n",
    "\n",
    "#大小写key合并\n",
    "mcase = {'a': 10, 'b': 34, 'A': 7, 'Z': 3}\n",
    "\n",
    "mcase_frequency = {\n",
    "    k.lower(): mcase.get(k.lower(), 0) + mcase.get(k.upper(), 0)\n",
    "    for k in mcase.keys()\n",
    "    if k.lower() in ['a','b']\n",
    "}\n",
    "\n",
    "print(mcase_frequency)\n",
    "\n",
    "#快速更换key和value\n",
    "mcase = {'a': 10, 'b': 34}\n",
    "mcase_frequency = {v: k for k, v in mcase.items()}\n",
    "print(mcase_frequency)"
   ]
  },
  {
   "cell_type": "markdown",
   "metadata": {
    "deletable": false,
    "editable": false
   },
   "source": [
    "### 集合推导式\n",
    "集合推导式跟列表推导式也是类似的。 唯一的区别在于它使用大括号{ }。\n",
    "\n",
    "基本格式：{ expr for value in collection if condition }\n"
   ]
  },
  {
   "cell_type": "code",
   "execution_count": 24,
   "metadata": {
    "deletable": false,
    "editable": false
   },
   "outputs": [
    {
     "name": "stdout",
     "output_type": "stream",
     "text": [
      "{1, 4}\n",
      "{1, 2, 4, 9}\n",
      "['Jefferson', 'Wesley', 'Steven', 'Jennifer']\n",
      "['Jefferson', 'Wesley', 'Steven', 'Jennifer']\n"
     ]
    }
   ],
   "source": [
    "#集合推导式\n",
    "squared = {x**2 for x in [1, 1, 2]}\n",
    "print(squared)\n",
    "\n",
    "#用集合推导式，创建字符串长度的集合\n",
    "strings = ['a','is','with','if','file','exception'] \n",
    "\n",
    "print({len(s) for s in strings})  # 有长度相同的会只留一个，这在实际上也非常有用 \n",
    "\n",
    "#一个由男人列表和女人列表组成的嵌套列表，取出姓名中带有两个以上含字母e的姓名，组成列表\n",
    "names = [['Tom','Billy','Jefferson','Andrew','Wesley','Steven','Joe'], ['Alice','Jill','Ana','Wendy','Jennifer','Sherry','Eva']]\n",
    "tmp = [] \n",
    "\n",
    "# 用for循环实现\n",
    "for lst in names:\n",
    "    for name in lst: \n",
    "        if name.count('e') >= 2: \n",
    "            tmp.append(name)\n",
    "\n",
    "print(tmp) \n",
    "\n",
    "# 用嵌套列表实现\n",
    "print([name for lst in names for name in lst if name.count('e')>=2]) # 注意遍历顺序，这是实现的关键 "
   ]
  },
  {
   "cell_type": "markdown",
   "metadata": {
    "deletable": false,
    "editable": false
   },
   "source": [
    "## Misc\n",
    "\n",
    "### range() vs np.arrange()\n",
    "#### range\n",
    "\n",
    "- range(start, stop[, step])\n",
    "\n",
    "- range(stop)\n",
    "\n",
    "这是一个通用的函数来创建包含算术级数的列表。它最常用于for循环。参数必须是纯整数。\n",
    "\n",
    "返回一个range对象（不是列表）\n",
    "\n",
    "如果省略step参数，则默认为1。\n",
    "\n",
    "如果省略start参数，则默认为0。完整的形式返回一个普通整数列表。如果步骤是肯定的，最后一个元素是小于停止的最大元素; 如果step是负数，最后一个元素是大于stop的最小元素。 \n",
    "\n",
    "\n",
    "#### numpy.arange\n",
    "numpy.arange([start, ]stop, [step, ]dtype=None)\n",
    "\n",
    "与range()功能完全相同，除了：1)返回值是ndarray; 2) step可以是非整数\n"
   ]
  },
  {
   "cell_type": "code",
   "execution_count": 40,
   "metadata": {
    "deletable": false,
    "editable": false
   },
   "outputs": [
    {
     "name": "stdout",
     "output_type": "stream",
     "text": [
      "[0 1 2 3 4 5 6 7 8 9] \t range(10)\n",
      "[ 1  2  3  4  5  6  7  8  9 10] \t range(1, 11)\n",
      "[ 0  5 10 15 20 25] \t range(0, 30, 5)\n",
      "[0 3 6 9] \t range(0, 10, 3)\n",
      "[ 0 -1 -2 -3 -4 -5 -6 -7 -8 -9] \t range(0, -10, -1)\n",
      "[] \t range(0)\n",
      "[] \t range(1, 0)\n"
     ]
    }
   ],
   "source": [
    "import numpy as np\n",
    "print(np.array(range(10)), \"\\t\", \"range(10)\")\n",
    "print(np.array(range(1, 11)), \"\\t\", \"range(1, 11)\")\n",
    "print(np.array(range(0, 30, 5)), \"\\t\", \"range(0, 30, 5)\")\n",
    "print(np.array(range(0, 10, 3)), \"\\t\", \"range(0, 10, 3)\")\n",
    "print(np.array(range(0, -10, -1)), \"\\t\", \"range(0, -10, -1)\")\n",
    "print(np.array(range(0)), \"\\t\", \"range(0)\")\n",
    "print(np.array(range(1, 0)), \"\\t\", \"range(1, 0)\")"
   ]
  },
  {
   "cell_type": "code",
   "execution_count": 46,
   "metadata": {
    "deletable": false,
    "editable": false,
    "scrolled": true
   },
   "outputs": [
    {
     "name": "stdout",
     "output_type": "stream",
     "text": [
      "[0 1 2]\n",
      "[0. 1. 2.]\n",
      "[3 4 5 6]\n",
      "[3.  3.5 4.  4.5 5.  5.5 6.  6.5]\n"
     ]
    }
   ],
   "source": [
    "import numpy as np\n",
    "print(np.arange(3))\n",
    "print(np.arange(3.0))\n",
    "print(np.arange(3,7))\n",
    "print(np.arange(3,7,0.5))"
   ]
  },
  {
   "cell_type": "code",
   "execution_count": 15,
   "metadata": {
    "scrolled": true
   },
   "outputs": [
    {
     "data": {
      "image/png": "[encoded data removed]",
      "text/plain": [
       "<Figure size 432x288 with 1 Axes>"
      ]
     },
     "metadata": {
      "needs_background": "light"
     },
     "output_type": "display_data"
    }
   ],
   "source": [
    "import numpy as np\n",
    "import matplotlib.pyplot as plt\n",
    "from scipy.special import expit\n",
    "\n",
    "a=np.arange(-3,3,0.01)\n",
    "b=-np.log(expit(a))\n",
    "\n",
    "plt.plot(a,-np.log(expit(a)))\n",
    "plt.plot(a,-np.log(1-expit(a)))\n",
    "plt.grid()"
   ]
  },
  {
   "cell_type": "markdown",
   "metadata": {
    "deletable": false,
    "editable": false,
    "heading_collapsed": true
   },
   "source": [
    "# PyNum"
   ]
  },
  {
   "cell_type": "markdown",
   "metadata": {
    "deletable": false,
    "editable": false,
    "hidden": true
   },
   "source": [
    "## np.loadtxt\n",
    "用于从文本加载数据。文本文件中的每一行必须含有相同的数据。\n",
    "loadtxt(fname, dtype=<class 'float'>, comments='#', delimiter=None, converters=None, skiprows=0, usecols=None, unpack=False, ndmin=0)\n",
    "\n",
    "- fname要读取的文件、文件名、或生成器。\n",
    "- dtype数据类型，默认float。\n",
    "- comments注释。\n",
    "- delimiter分隔符，默认是空格。\n",
    "- skiprows跳过前几行读取，默认是0，必须是int整型。\n",
    "- usecols：要读取哪些列，0是第一列。例如，usecols = （1,4,5）将提取第2，第5和第6列。默认读取所有列。\n",
    "- unpack如果为True，将分列读取。"
   ]
  },
  {
   "cell_type": "code",
   "execution_count": 17,
   "metadata": {
    "collapsed": true,
    "deletable": false,
    "editable": false,
    "hidden": true
   },
   "outputs": [
    {
     "name": "stdout",
     "output_type": "stream",
     "text": [
      "[[1600    3]\n",
      " [2400    3]\n",
      " [1416    2]\n",
      " [3000    4]\n",
      " [1985    4]\n",
      " [1534    3]] \n",
      " [3299 3690 2320 5399 2999 3149] \n",
      " [[3299]\n",
      " [3690]\n",
      " [2320]\n",
      " [5399]\n",
      " [2999]\n",
      " [3149]] \n",
      "\n"
     ]
    }
   ],
   "source": [
    "import numpy as np\n",
    "data = np.loadtxt(\"data.txt\",delimiter=\",\",\n",
    "    dtype=np.int16, skiprows=(1),usecols= (0, 1,2),unpack= False)\n",
    "\n",
    "X = data[:,0:-1]      # X对应0到倒数第2列                  \n",
    "y1 = data[:,-1]        # y对应最后一列  \n",
    "m = len(y1)            # 总的数据条数\n",
    "col = data.shape[1]\n",
    "y2 = data[:,-1:-2:-1]        # y对应最后一列  \n",
    "print(X,\"\\n\",y1,\"\\n\",y2,\"\\n\")"
   ]
  },
  {
   "cell_type": "markdown",
   "metadata": {
    "deletable": false,
    "editable": false,
    "hidden": true
   },
   "source": [
    "## np.shape\n",
    "函数是numpy.core.fromnumeric中的函数，它的功能是查看矩阵或者数组的维数。\n",
    "返回值是tuple，第i个元素表示第i维的长度"
   ]
  },
  {
   "cell_type": "code",
   "execution_count": 44,
   "metadata": {
    "collapsed": true,
    "deletable": false,
    "editable": false,
    "hidden": true
   },
   "outputs": [
    {
     "name": "stdout",
     "output_type": "stream",
     "text": [
      "c= [[[1 1 1]\n",
      "  [1 1 2]\n",
      "  [1 1 3]\n",
      "  [1 1 4]]\n",
      "\n",
      " [[1 2 1]\n",
      "  [1 2 2]\n",
      "  [1 2 3]\n",
      "  [1 2 4]]]\n",
      "\n",
      "\n",
      "\n",
      "c.shape= (2, 4, 3)\n",
      "c.shape类型是 <class 'tuple'>\n",
      "c维数是 3\n",
      "c第0维的长度是 2\n",
      "c第1维的长度是 4\n",
      "c第2维的长度是 3\n"
     ]
    }
   ],
   "source": [
    "import numpy as np\n",
    "c = np.array([[[1,1,1],[1,1,2],[1,1,3],[1,1,4]], [[1,2,1],[1,2,2],[1,2,3],[1,2,4]]])\n",
    "print(\"c=\", c)\n",
    "print(\"\\n\\n\")\n",
    "print(\"c.shape=\", c.shape)\n",
    "print(\"c.shape类型是\",type(c.shape))\n",
    "print(\"c维数是\",len(c.shape))\n",
    "print(\"c第0维的长度是\",c.shape[0])\n",
    "print(\"c第1维的长度是\",c.shape[1])\n",
    "print(\"c第2维的长度是\",c.shape[2]) "
   ]
  },
  {
   "cell_type": "markdown",
   "metadata": {
    "deletable": false,
    "editable": false,
    "heading_collapsed": true,
    "hidden": true
   },
   "source": [
    "## [np.reshape](https://docs.scipy.org/doc/numpy-1.15.0/reference/generated/numpy.reshape.html)"
   ]
  },
  {
   "cell_type": "markdown",
   "metadata": {
    "deletable": false,
    "editable": false,
    "hidden": true
   },
   "source": [
    "numpy.reshape(a, newshape, order='C')\n",
    "Gives a new shape to an array without changing its data.\n",
    "- a : array_like, Array to be reshaped.\n",
    "- newshape : int or tuple of ints\n",
    "- order : {‘C’, ‘F’, ‘A’}, optional\n",
    "\n",
    "可以是以下语法形式  x.reshape(...)\n",
    "- x.reshape(n0, n1, ...)                 #整数序列\n",
    "- x.reshape(n0, n1, ..., order='C')      #整数序列\n",
    "- x.reshape( (n0, n1, ...), order='C')   #元组\n",
    "\n",
    "也可以是以下语法形式  numpy.reshape(x, ...)\n",
    "- numpy.reshape(x, (n0, n1, ...))#只能是元组\n",
    "- numpy.reshape(x, (n0, n1, ...), order='C')  #只能是元组\n",
    "\n",
    "\n",
    "newshape是新数组每一维的长度，表示为一个整数序列或者元组。每一维的长度可以是整数，或者是-1，表示自动计算。如果生成为3维的数组，用户可以只指定两维的长度，另外一维指定为-1(此时，系统可以自动计算出此维的长度)。参数中，最多出现一个-1(否则系统报错，因为可能会有多种系统计算结果)"
   ]
  },
  {
   "cell_type": "code",
   "execution_count": 139,
   "metadata": {
    "collapsed": true,
    "deletable": false,
    "editable": false,
    "hidden": true
   },
   "outputs": [
    {
     "name": "stdout",
     "output_type": "stream",
     "text": [
      "res  一维数组\n",
      "[ 0  1  2  3  4  5  6  7  8  9 10 11]\n",
      "\n",
      "res.reshape(3, -1)，转化为2维，一维长度为3，二维长度自动计算\n",
      "[[ 0  1  2  3]\n",
      " [ 4  5  6  7]\n",
      " [ 8  9 10 11]]\n",
      "\n",
      "res.reshape(3, 2, -1)，转化为3维，一维长度为3，二维长度为2，三维长度自动计算\n",
      "[[[ 0  1]\n",
      "  [ 2  3]]\n",
      "\n",
      " [[ 4  5]\n",
      "  [ 6  7]]\n",
      "\n",
      " [[ 8  9]\n",
      "  [10 11]]]\n",
      "\n",
      "res.reshape(2, -1, 2)转化为3维，一维长度为2，三维长度为2，二维长度自动计算)\n",
      "[[[ 0  1]\n",
      "  [ 2  3]\n",
      "  [ 4  5]]\n",
      "\n",
      " [[ 6  7]\n",
      "  [ 8  9]\n",
      "  [10 11]]]\n"
     ]
    }
   ],
   "source": [
    "import numpy as np\n",
    "\n",
    "res = np.array([0, 1, 2, 3, 4, 5, 6, 7, 8, 9, 10, 11])\n",
    "\n",
    "res.reshape(2,6)\n",
    "res.reshape(2,6, order='C')\n",
    "res.reshape((2,6), order='C')\n",
    "\n",
    "#np.reshape(res,2,6)  #syntax error\n",
    "np.reshape(res,(2,6))\n",
    "np.reshape(res, (2,6), order='C')\n",
    "\n",
    "print(\"res  一维数组\")\n",
    "print(res)\n",
    "\n",
    "print(\"\\nres.reshape(3, -1)，转化为2维，一维长度为3，二维长度自动计算\")\n",
    "print(res.reshape(3, -1))\n",
    "\n",
    "print(\"\\nres.reshape(3, 2, -1)，转化为3维，一维长度为3，二维长度为2，三维长度自动计算\")\n",
    "print(res.reshape(3, 2, -1))\n",
    "\n",
    "print(\"\\nres.reshape(2, -1, 2)转化为3维，一维长度为2，三维长度为2，二维长度自动计算)\")\n",
    "print(res.reshape(2, -1, 2))\n"
   ]
  },
  {
   "cell_type": "markdown",
   "metadata": {
    "deletable": false,
    "editable": false,
    "hidden": true
   },
   "source": [
    "## [np.zeros](https://docs.scipy.org/doc/numpy/reference/generated/numpy.zeros.html),[np.ones](https://docs.scipy.org/doc/numpy/reference/generated/numpy.ones.html)\n",
    "\n",
    "构造全零，全一矩阵\n",
    "\n",
    "np.zeros,np.ones用法完全相同\n",
    "\n",
    "用法：zeros(shape, dtype=float, order='C')\n",
    "\n",
    "返回：返回来一个给定形状和类型的用0填充的数组；\n",
    "\n",
    "参数：shape:形状\n",
    "\n",
    "            dtype:数据类型，可选参数，默认numpy.float64\n",
    "\n",
    "            dtype类型：t ,位域,如t4代表4位\n",
    "\n",
    "                                 b,布尔值，true or false\n",
    "\n",
    "                                 i,整数,如i8(64位）\n",
    "\n",
    "                                u,无符号整数，u8(64位）\n",
    "\n",
    "                                f,浮点数，f8（64位）\n",
    "\n",
    "                               c,浮点负数，\n",
    "\n",
    "                                o,对象，\n",
    "\n",
    "                               s,a，字符串，s24\n",
    "\n",
    "                               u,unicode,u24\n",
    "\n",
    "            order:可选参数，c代表与c语言类似，行优先；F代表列优先"
   ]
  },
  {
   "cell_type": "code",
   "execution_count": 133,
   "metadata": {
    "collapsed": true,
    "deletable": false,
    "editable": false,
    "hidden": true
   },
   "outputs": [
    {
     "name": "stdout",
     "output_type": "stream",
     "text": [
      "np.zeros(5)\n",
      "[0. 0. 0. 0. 0.]\n",
      "np.zeros(5,)\n",
      "[0. 0. 0. 0. 0.]\n",
      "\n",
      "np.zeros((1,5))\n",
      "[[0. 0. 0. 0. 0.]]\n",
      "\n",
      "np.zeros((5,1))\n",
      "[[0.]\n",
      " [0.]\n",
      " [0.]\n",
      " [0.]\n",
      " [0.]]\n",
      "\n",
      "np.zeros((2,3,4)))\n",
      "[[[1. 1. 1. 1.]\n",
      "  [1. 1. 1. 1.]\n",
      "  [1. 1. 1. 1.]]\n",
      "\n",
      " [[1. 1. 1. 1.]\n",
      "  [1. 1. 1. 1.]\n",
      "  [1. 1. 1. 1.]]]\n"
     ]
    }
   ],
   "source": [
    "import numpy as np\n",
    "print(\"np.zeros(5)\")\n",
    "print(np.zeros(5))\n",
    "print(\"np.zeros(5,)\")\n",
    "print(np.zeros(5,))\n",
    "print(\"\\nnp.zeros((1,5))\")\n",
    "print(np.zeros((1,5)))\n",
    "print(\"\\nnp.zeros((5,1))\")\n",
    "print(np.zeros((5,1)))\n",
    "\n",
    "print(\"\\nnp.zeros((2,3,4)))\")\n",
    "print(np.ones((2,3,4)))"
   ]
  },
  {
   "cell_type": "markdown",
   "metadata": {
    "deletable": false,
    "editable": false,
    "hidden": true
   },
   "source": [
    "## [np.eye](https://docs.scipy.org/doc/numpy/reference/generated/numpy.eye.html)\n",
    "\n",
    "构造单位矩阵"
   ]
  },
  {
   "cell_type": "code",
   "execution_count": 41,
   "metadata": {
    "deletable": false,
    "editable": false,
    "hidden": true,
    "scrolled": true
   },
   "outputs": [
    {
     "name": "stdout",
     "output_type": "stream",
     "text": [
      "[[1. 0. 0.]\n",
      " [0. 1. 0.]\n",
      " [0. 0. 1.]]\n",
      "[[1. 0. 0. 0.]\n",
      " [0. 1. 0. 0.]\n",
      " [0. 0. 1. 0.]]\n"
     ]
    }
   ],
   "source": [
    "import numpy as np\n",
    "print(np.eye(3))\n",
    "print(np.eye(3,M=4))"
   ]
  },
  {
   "cell_type": "markdown",
   "metadata": {
    "hidden": true
   },
   "source": [
    "## np.where\n",
    "\n",
    "numpy.where() 有两种用法：\n",
    "\n",
    "1. np.where(condition, x, y)\n",
    "满足条件(condition)，输出x，不满足输出y。 \n",
    "\n",
    "    如果是一维数组，相当于[xv if c else yv for (c,xv,yv) in zip(condition,x,y)]\n",
    "\n",
    "\n",
    "2. np.where(condition)\n",
    "只有条件 (condition)，没有x和y，则输出满足条件元素的坐标 (等价于numpy.nonzero)。这里的坐标以tuple的形式给出，通常原数组有多少维，输出的tuple中就包含几个数组，分别对应符合条件元素的各维坐标。"
   ]
  },
  {
   "cell_type": "code",
   "execution_count": 1,
   "metadata": {
    "hidden": true
   },
   "outputs": [
    {
     "name": "stdout",
     "output_type": "stream",
     "text": [
      "[-1  1  1  1  1  1  1  1  1  1]\n",
      "[-1 -1 -1 -1 -1 -1  1  1  1  1]\n"
     ]
    },
    {
     "data": {
      "text/plain": [
       "array([[ 1,  8,  3],\n",
       "       [ 4,  5, 12]])"
      ]
     },
     "execution_count": 1,
     "metadata": {},
     "output_type": "execute_result"
    }
   ],
   "source": [
    "import numpy as np\n",
    "aa = np.arange(10)\n",
    "\n",
    "#在以下例子中，第一个参数是数组，所以对于第二个参数和第三个参数进行了广播扩展\n",
    "#实际执行为np.where([0,1,2...9],[1,1..1],[-1,-1,...-1])\n",
    "#0为False，所以第一个输出-1\n",
    "print(np.where(aa,1,-1))\n",
    "print(np.where(aa > 5,1,-1))\n",
    "\n",
    "#在以下例子中，所有参数都是2*3数组，所以针对数组中的每个位置分别进行where操作，并得到相应结果\n",
    "np.where([[True,False, True], [True,True, False]],   [[1,2,3], [4,5,6]],   [[7,8,9], [10,11,12]])"
   ]
  },
  {
   "cell_type": "code",
   "execution_count": 15,
   "metadata": {
    "hidden": true
   },
   "outputs": [
    {
     "name": "stdout",
     "output_type": "stream",
     "text": [
      "(array([2, 3, 4], dtype=int64),)\n",
      "[ 6  8 10]\n",
      "(array([0, 1], dtype=int64), array([1, 0], dtype=int64))\n"
     ]
    },
    {
     "data": {
      "text/plain": [
       "(array([0, 0, 0, 1, 1, 1, 1, 1, 1, 1, 1, 1, 2, 2, 2, 2, 2, 2, 2, 2, 2],\n",
       "       dtype=int64),\n",
       " array([2, 2, 2, 0, 0, 0, 1, 1, 1, 2, 2, 2, 0, 0, 0, 1, 1, 1, 2, 2, 2],\n",
       "       dtype=int64),\n",
       " array([0, 1, 2, 0, 1, 2, 0, 1, 2, 0, 1, 2, 0, 1, 2, 0, 1, 2, 0, 1, 2],\n",
       "       dtype=int64))"
      ]
     },
     "execution_count": 15,
     "metadata": {},
     "output_type": "execute_result"
    }
   ],
   "source": [
    "import numpy as np\n",
    "a = np.array([2,4,6,8,10])\n",
    "print(np.where(a > 5))             # 返回tuple。因为a是一维数组，所以结果只有一个元素，这个元素是个array\n",
    "\n",
    "print(a[np.where(a > 5)])              # 等价于 a[a>5]\n",
    "\n",
    "print(np.where([[0, 1], [1, 0]]))  # 返回tuple。因为a是二维数组，所以结果有二个元素，这两个元素都是array\n",
    "\n",
    "\n",
    "########### 需要再仔细看\n",
    "a = np.arange(27).reshape(3,3,3)\n",
    "np.where(a > 5)"
   ]
  },
  {
   "cell_type": "code",
   "execution_count": 2,
   "metadata": {
    "deletable": false,
    "editable": false,
    "hidden": true
   },
   "outputs": [],
   "source": [
    "%magic"
   ]
  },
  {
   "cell_type": "code",
   "execution_count": 19,
   "metadata": {
    "deletable": false,
    "editable": false,
    "hidden": true
   },
   "outputs": [
    {
     "name": "stdout",
     "output_type": "stream",
     "text": [
      "d = !date/T  ##dos命令获取当前日期\n",
      "print(d)\n",
      "type(d)  ##注意，返回值的类型不是列表\n",
      "%%HTML\n",
      "<button onclick=\"$('.input, .prompt, .output_stderr, .output_error, .output_result').toggle();\">Toggle Code</button>\n",
      "# 单个#开头是单行注释\n",
      "# 第二个注释\n",
      " \n",
      "'''\n",
      "三个单引号用来开始和结束多行注释\n",
      "第三注释\n",
      "第四注释\n",
      "'''\n",
      " \n",
      "\"\"\"\n",
      "三个双引号用来开始和结束多行注释\n",
      "第五注释\n",
      "第六注释\n",
      "\"\"\"\n",
      "print (\"Hello, Python!\")\n",
      "# 单个#开头是单行注释\n",
      "# 第二个注释\n",
      " \n",
      "'''\n",
      "三个单引号用来开始和结束多行注释\n",
      "第三注释\n",
      "第四注释\n",
      "'''\n",
      " \n",
      "\"\"\"\n",
      "三个双引号用来开始和结束多行注释\n",
      "第五注释\n",
      "第六注释\n",
      "\"\"\"\n",
      "print (\"Hello, Python!\")\n",
      "l = [0,1,2,3,4,5];  \n",
      "\n",
      "print(\"l=\", l[:])\n",
      "print(\"l[0]=\", l[0], \"\\tl[3]=\", l[3])\n",
      "print(\"l[-1]=\", l[-1], \"\\tl[-2]=\", l[-2], \"\\tl[-6]=\", l[-6])\n",
      "l = [0, 1, 2, 3, 4, 5, 6, 7, 8, 9, 10]; \n",
      "print(\"l=\",l)\n",
      "print(\"l[1:9:1]=\", l[1:9:1]) \n",
      "print(\"l[1:9]=\", l[1:9]) \n",
      "print(\"l[1:9:2]=\", l[1:9:2])\n",
      "l = [0, 1, 2, 3, 4, 5, 6, 7, 8, 9, 10]; \n",
      "print(\"l=\",l)\n",
      "print(\"l[:3]=\", l[:3]) \n",
      "print(\"l[2:]=\", l[2:])\n",
      "l = [0, 1, 2, 3, 4, 5, 6, 7, 8, 9, 10]; \n",
      "print(\"l=\",l)\n",
      "print(\"l[:]=\", l[:]) \n",
      "print(\"l[::]=\", l[::])\n",
      "l = [0, 1, 2, 3, 4, 5, 6, 7, 8, 9, 10]; \n",
      "print(\"l=\",l)\n",
      "print(\"l[::-1]=\", l[::-1], \"##[start_index: stop_index: step]，step=-1\")\n",
      "print(\"l[:-1]=\", l[:-1], \"##[start_index: stop_index]，step=1\")\n",
      "l = [0, 1, 2, 3, 4, 5, 6, 7, 8, 9, 10]; \n",
      "print(\"l=\",l)\n",
      "print(\"l[3::1]=\", l[3::1], \"\\t\\t##正向，开始为3，结束不限定\") \n",
      "print(\"l[3::-1]=\", l[3::-1], \"\\t\\t\\t##反向，开始为3，结束不限定\") \n",
      "print(\"l[:3:1]=\", l[:3:1], \"\\t\\t\\t##正向，结束为3，开始不限定\") \n",
      "print(\"l[:3:-1]=\", l[:3:-1], \"\\t\\t##反向，结束为3，开始不限定\")\n",
      "l = [0, 1, 2, 3, 4, 5, 6, 7, 8, 9, 10]; \n",
      "print(\"l=\",l)\n",
      "print(\"l[3::1]=\", l[3::1], \"\\t\\t##正向，开始为3，结束不限定\") \n",
      "print(\"l[3::-1]=\", l[3::-1], \"\\t\\t\\t\\t##反向，开始为3，结束不限定\") \n",
      "print(\"l[:3:1]=\", l[:3:1], \"\\t\\t\\t\\t##正向，结束为3，开始不限定\") \n",
      "print(\"l[:3:-1]=\", l[:3:-1], \"\\t\\t##反向，结束为3，开始不限定\")\n",
      "import numpy as np \n",
      "a = np.array([[[\"000\",  \"001\"],  [\"010\",  \"011\"]],[[\"100\",  \"101\"],  [\"110\",  \"111\"]]])  #三维列表\n",
      "print (\"a=\", a)\n",
      "print (\"\\n=============\\n\")\n",
      "\n",
      "print (\"a[0,]\", \"\\t\\t\\t(n1=0, n2和n3全部。n1使用索引，而不是切片，所以降维2维)\\n\", a[0,])\n",
      "print (\"\\n=============\\n\")\n",
      "\n",
      "print (\"a[0,:]\", \"\\t\\t\\t(n1=0, n2和n3全部。n1使用索引，而不是切片，所以降维2维)\\n\", a[0,:])\n",
      "print (\"\\n=============\\n\")\n",
      "\n",
      "print (\"a[0,:,:]\", \"\\t\\t\\t(n1=0, n2和n3全部。n1使用索引，而不是切片，所以降维2维)\\n\", a[0,:,:])\n",
      "print (\"\\n=============\\n\")\n",
      "\n",
      "print (\"a[0:1,]\", \"\\t\\t\\t(n1=0, n2和n3全部。n1使用切片，所以依旧是3维)\\n\", a[0:1,])\n",
      "print (\"\\n=============\\n\")\n",
      "\n",
      "print (\"a[0,0,0]\", \"\\t\\t\\t(n1=0, n2=0, n3=0, 。n1,n2,n3索引，二不是用切片，所以降维)\\n\", a[0,0,0])\n",
      "print (\"\\n=============\\n\")\n",
      "\n",
      "print (\"a[0:1,0:1,0:1]\", \"\\t\\t\\t(n1=0, n2=0, n3=0, 。n1,n2,n3使用切片，所以依旧是3维)\\n\", a[0:1,0:1,0:1])\n",
      "print (\"\\n=============\\n\")\n",
      "# 单个#开头是单行注释\n",
      "# 第二个注释\n",
      " \n",
      "'''\n",
      "三个单引号用来开始和结束多行注释\n",
      "第三注释\n",
      "第四注释\n",
      "'''\n",
      " \n",
      "\"\"\"\n",
      "三个双引号用来开始和结束多行注释\n",
      "第五注释\n",
      "第六注释\n",
      "\"\"\"\n",
      "# 单个#开头是单行注释\n",
      "# 第二个注释\n",
      " \n",
      "'''\n",
      "三个单引号用来开始和结束多行注释\n",
      "第三注释\n",
      "第四注释\n",
      "'''\n",
      " \n",
      "\"\"\"\n",
      "三个双引号用来开始和结束多行注释\n",
      "第五注释\n",
      "第六注释\n",
      "\"\"\"\n",
      "print(\"hello\")\n",
      "if True:\n",
      "    print (\"True\")\n",
      "    print (\"False\")  \n",
      "else:\n",
      "    print (\"False\")\n",
      "# This is an example snippet!\n",
      "# To create your own, add a new snippet block to the\n",
      "# snippets.json file in your jupyter nbextensions directory:\n",
      "# /nbextensions/snippets/snippets.json\n",
      "import this\n",
      "!dir\n",
      "1+2\n",
      "%hist\n"
     ]
    }
   ],
   "source": [
    "%hist"
   ]
  },
  {
   "cell_type": "code",
   "execution_count": 8,
   "metadata": {
    "deletable": false,
    "editable": false,
    "hidden": true
   },
   "outputs": [],
   "source": [
    "%matplotlib inline\n",
    "import numpy as np\n",
    "import matplotlib.pyplot as plt\n",
    "import seaborn; \n",
    "from sklearn.linear_model import LinearRegression\n",
    "import pylab as pl\n",
    "\n",
    "seaborn.set()"
   ]
  },
  {
   "cell_type": "code",
   "execution_count": 47,
   "metadata": {
    "deletable": false,
    "editable": false,
    "hidden": true
   },
   "outputs": [
    {
     "ename": "NameError",
     "evalue": "name 'plt' is not defined",
     "output_type": "error",
     "traceback": [
      "\u001b[1;31m---------------------------------------------------------------------------\u001b[0m",
      "\u001b[1;31mNameError\u001b[0m                                 Traceback (most recent call last)",
      "\u001b[1;32m<ipython-input-47-0ddda94133d2>\u001b[0m in \u001b[0;36m<module>\u001b[1;34m()\u001b[0m\n\u001b[0;32m      5\u001b[0m \u001b[0my\u001b[0m \u001b[1;33m=\u001b[0m \u001b[1;36m3\u001b[0m \u001b[1;33m*\u001b[0m \u001b[0mX\u001b[0m\u001b[1;33m.\u001b[0m\u001b[0msqueeze\u001b[0m\u001b[1;33m(\u001b[0m\u001b[1;33m)\u001b[0m \u001b[1;33m+\u001b[0m \u001b[1;36m2\u001b[0m \u001b[1;33m+\u001b[0m \u001b[0mnp\u001b[0m\u001b[1;33m.\u001b[0m\u001b[0mrandom\u001b[0m\u001b[1;33m.\u001b[0m\u001b[0mrandn\u001b[0m\u001b[1;33m(\u001b[0m\u001b[1;36m20\u001b[0m\u001b[1;33m)\u001b[0m\u001b[1;33m\u001b[0m\u001b[0m\n\u001b[0;32m      6\u001b[0m \u001b[1;33m\u001b[0m\u001b[0m\n\u001b[1;32m----> 7\u001b[1;33m \u001b[0mplt\u001b[0m\u001b[1;33m.\u001b[0m\u001b[0mplot\u001b[0m\u001b[1;33m(\u001b[0m\u001b[0mX\u001b[0m\u001b[1;33m.\u001b[0m\u001b[0msqueeze\u001b[0m\u001b[1;33m(\u001b[0m\u001b[1;33m)\u001b[0m\u001b[1;33m,\u001b[0m \u001b[0my\u001b[0m\u001b[1;33m,\u001b[0m \u001b[1;34m'o'\u001b[0m\u001b[1;33m)\u001b[0m\u001b[1;33m;\u001b[0m\u001b[1;33m\u001b[0m\u001b[0m\n\u001b[0m",
      "\u001b[1;31mNameError\u001b[0m: name 'plt' is not defined"
     ]
    }
   ],
   "source": [
    "# Create some simple data\n",
    "import numpy as np\n",
    "np.random.seed(0)\n",
    "X = np.random.random(size=(20, 1))\n",
    "y = 3 * X.squeeze() + 2 + np.random.randn(20)\n",
    "\n",
    "plt.plot(X.squeeze(), y, 'o');"
   ]
  },
  {
   "cell_type": "markdown",
   "metadata": {},
   "source": [
    "# test\n"
   ]
  },
  {
   "cell_type": "code",
   "execution_count": 50,
   "metadata": {},
   "outputs": [
    {
     "name": "stdout",
     "output_type": "stream",
     "text": [
      "X1* 1   X2* 0\n",
      "X1* 0   X2* 1\n",
      "X1* 2   X2* 0\n",
      "X1* 1   X2* 1\n",
      "X1* 0   X2* 2\n"
     ]
    }
   ],
   "source": [
    "    for i in range(1,2+1): \n",
    "        for j in range(i+1):\n",
    "            print (\"X1*\", i-j, \"  X2*\", j)\n",
    "#            temp = X1**(i-j)*(X2**j)    #矩阵直接乘相当于matlab中的点乘.*\n"
   ]
  }
 ],
 "metadata": {
  "kernelspec": {
   "display_name": "Python 3",
   "language": "python",
   "name": "python3"
  },
  "language_info": {
   "codemirror_mode": {
    "name": "ipython",
    "version": 3
   },
   "file_extension": ".py",
   "mimetype": "text/x-python",
   "name": "python",
   "nbconvert_exporter": "python",
   "pygments_lexer": "ipython3",
   "version": "3.7.0"
  },
  "toc": {
   "base_numbering": 1,
   "nav_menu": {},
   "number_sections": true,
   "sideBar": true,
   "skip_h1_title": false,
   "title_cell": "Table of Contents",
   "title_sidebar": "Contents",
   "toc_cell": false,
   "toc_position": {
    "height": "calc(100% - 180px)",
    "left": "10px",
    "top": "150px",
    "width": "308.4px"
   },
   "toc_section_display": true,
   "toc_window_display": true
  },
  "varInspector": {
   "cols": {
    "lenName": 16,
    "lenType": 16,
    "lenVar": 40
   },
   "kernels_config": {
    "python": {
     "delete_cmd_postfix": "",
     "delete_cmd_prefix": "del ",
     "library": "var_list.py",
     "varRefreshCmd": "print(var_dic_list())"
    },
    "r": {
     "delete_cmd_postfix": ") ",
     "delete_cmd_prefix": "rm(",
     "library": "var_list.r",
     "varRefreshCmd": "cat(var_dic_list()) "
    }
   },
   "types_to_exclude": [
    "module",
    "function",
    "builtin_function_or_method",
    "instance",
    "_Feature"
   ],
   "window_display": false
  }
 },
 "nbformat": 4,
 "nbformat_minor": 2
}
