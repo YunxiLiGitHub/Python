{
 "cells": [
  {
   "cell_type": "markdown",
   "metadata": {},
   "source": [
    "# Jupyter Notebook"
   ]
  },
  {
   "cell_type": "markdown",
   "metadata": {},
   "source": [
    "- 程序安装在C:\\MyPrograms\\Anaconda3\n",
    "- 要运行程序，运行start/Anaconda3(64bit)/jupyter notebook\n",
    "    - 启动后，会出现窗口，复制窗口中一下类似的字串到浏览器地址栏中http://localhost:8888/?token=534756d0523a0181a236a8980f5ba4a51e3e19260b2fd6b8\n",
    "    - 在浏览器中，找到想要运行的程序(浏览器的根目录是C:\\Users\\eyunxli)\n",
    "    - 使用Edge浏览器(由于浏览器快捷键(autohotkey)的限制，Edge没有被管理，所以Esc不会最小化浏览器。其他浏览器会被最小化并隐藏)"
   ]
  },
  {
   "cell_type": "markdown",
   "metadata": {},
   "source": [
    "## 使用pip安装组件\n",
    "- 执行windows start/Anaconda3(64it)/Anaconda promot\n",
    "- 在出现的窗口键入命令安装，例如"
   ]
  },
  {
   "cell_type": "markdown",
   "metadata": {},
   "source": [
    "## NBextensions\n",
    "- Notebook扩展是一些能帮助你轻松把想要的内容/功能添加进Jupyter Notebook的插件。安装扩展最好的方法是Jupyter NbExtensions Configurator，它提供了一系列标签，只需勾选相应插件就能自动载入。"
   ]
  },
  {
   "cell_type": "markdown",
   "metadata": {},
   "source": [
    "### 安装\n",
    "- 用conda安装：\n",
    "--conda install -c conda-forge jupyter_contrib_nbextensions\n",
    "    -conda install -c conda-forge jupyter_nbextensions_configurator    \n",
    "- 或者用pip：\n",
    "    -pip install jupyter_nbextensions_configurator jupyter_contrib_nbextensions    \n",
    "    -jupyter contrib nbextension install --user\n",
    "    \n",
    "-jupyter nbextensions_configurator enable --user"
   ]
  },
  {
   "cell_type": "markdown",
   "metadata": {},
   "source": [
    "### 标题折叠 Collapsible headings\n",
    "\n",
    "\n",
    "当你在处理一个大型的 notebooks 时，这项扩展非常有用，它可以让你隐藏部分内容。"
   ]
  },
  {
   "cell_type": "markdown",
   "metadata": {},
   "source": [
    "### 通知 Notify\n",
    "当你长时间运行一个任务程序的时候，程序运行结束后，此扩展功能会自动提醒你。"
   ]
  },
  {
   "cell_type": "markdown",
   "metadata": {},
   "source": [
    "### 代码折叠Code folding\n"
   ]
  },
  {
   "cell_type": "markdown",
   "metadata": {},
   "source": [
    "### 进度条 tqdm_notebook\n",
    "\n",
    "tqdm 是一个 Python 的进度条库，在 jupyter notebook 中则被称之为 \"tqdm_notebook\"。自从在 nootbook 中加入了 tqdm_notebook 扩展功能，你再也不用担心其引发的混乱问题了。"
   ]
  },
  {
   "cell_type": "markdown",
   "metadata": {},
   "source": [
    "### 文档结构图 Table of Contents\n",
    "目录,可以将所有的heade标题栏收集起来,只对于已经运行的markdown类型的标题有效.通过目录可以进入指定链接. "
   ]
  },
  {
   "attachments": {},
   "cell_type": "markdown",
   "metadata": {
    "heading_collapsed": true
   },
   "source": [
    "## 两种模式: 编辑模式(按键 Enter 开启)，命令模式(按键 Esc 开启)\n",
    "Jupyter Notebook 有两种键盘输入模式。\n",
    "编辑模式，允许你往单元中键入代码或文本；这时的单元框线是绿色的。\n",
    "命令模式，键盘输入运行程序命令；这时的单元框线是灰色。\n",
    "\n",
    "命令模式 (按键 Esc 开启)\n",
    "Enter: 转入编辑模式\n",
    "Shift-Enter: 运行本单元，选中下个单元\n",
    "Ctrl-Enter: 运行本单元\n",
    "Alt-Enter: 运行本单元，在其下插入新单元\n",
    "Y: 单元转入代码状态\n",
    "M:单元转入markdown状态\n",
    "R: 单元转入raw状态\n",
    "1: 设定 1 级标题\n",
    "2: 设定 2 级标题\n",
    "3: 设定 3 级标题\n",
    "4: 设定 4 级标题\n",
    "5: 设定 5 级标题\n",
    "6: 设定 6 级标题\n",
    "Up: 选中上方单元\n",
    "K: 选中上方单元\n",
    "Down: 选中下方单元\n",
    "J: 选中下方单元\n",
    "Shift-K: 扩大选中上方单元\n",
    "Shift-J: 扩大选中下方单元\n",
    "A: 在上方插入新单元\n",
    "B: 在下方插入新单元\n",
    "X: 剪切选中的单元\n",
    "C: 复制选中的单元\n",
    "Shift-V: 粘贴到上方单元\n",
    "V: 粘贴到下方单元\n",
    "Z: 恢复删除的最后一个单元\n",
    "D,D: 删除选中的单元\n",
    "Shift-M: 合并选中的单元\n",
    "Ctrl-S: 文件存盘\n",
    "S: 文件存盘\n",
    "L: 转换行号\n",
    "O: 转换输出\n",
    "Shift-O: 转换输出滚动\n",
    "Esc: 关闭页面\n",
    "Q: 关闭页面\n",
    "H: 显示快捷键帮助\n",
    "I,I: 中断Notebook内核\n",
    "0,0: 重启Notebook内核\n",
    "Shift: 忽略\n",
    "Shift-Space: 向上滚动\n",
    "Space: 向下滚动\n",
    "\n",
    "编辑模式 ( Enter 键启动)\n",
    "Tab: 代码补全或缩进\n",
    "Shift-Tab: 提示\n",
    "Ctrl-]: 缩进\n",
    "Ctrl-[: 解除缩进\n",
    "Ctrl-A: 全选\n",
    "Ctrl-Z: 复原\n",
    "Ctrl-Shift-Z: 再做\n",
    "Ctrl-Y: 再做\n",
    "Ctrl-Home: 跳到单元开头\n",
    "Ctrl-Up: 跳到单元开头\n",
    "Ctrl-End: 跳到单元末尾\n",
    "Ctrl-Down: 跳到单元末尾\n",
    "Ctrl-Left: 跳到左边一个字首\n",
    "Ctrl-Right: 跳到右边一个字首\n",
    "Ctrl-Backspace: 删除前面一个字\n",
    "Ctrl-Delete: 删除后面一个字\n",
    "Esc: 进入命令模式\n",
    "Ctrl-M: 进入命令模式\n",
    "Shift-Enter: 运行本单元，选中下一单元\n",
    "Ctrl-Enter: 运行本单元\n",
    "Alt-Enter: 运行本单元，在下面插入一单元\n",
    "Ctrl-Shift--: 分割单元\n",
    "Ctrl-Shift-Subtract: 分割单元\n",
    "Ctrl-S: 文件存盘\n",
    "Shift: 忽略\n",
    "Up: 光标上移或转入上一单元\n",
    "Down:光标下移或转入下一单元"
   ]
  },
  {
   "cell_type": "markdown",
   "metadata": {},
   "source": [
    "## 执行shell命令\n",
    "- 直接在命令之前放一个“!”，就能执行shell命令，并且可以返回shell的执行结果值"
   ]
  },
  {
   "cell_type": "code",
   "execution_count": 115,
   "metadata": {},
   "outputs": [
    {
     "name": "stdout",
     "output_type": "stream",
     "text": [
      "['19/01/25 ']\n"
     ]
    },
    {
     "data": {
      "text/plain": [
       "IPython.utils.text.SList"
      ]
     },
     "execution_count": 115,
     "metadata": {},
     "output_type": "execute_result"
    }
   ],
   "source": [
    "d = !date/T  ##dos命令获取当前日期\n",
    "print(d)\n",
    "type(d)  ##注意，返回值的类型不是列表"
   ]
  },
  {
   "cell_type": "markdown",
   "metadata": {
    "heading_collapsed": true
   },
   "source": [
    "# 注释"
   ]
  },
  {
   "cell_type": "code",
   "execution_count": 3,
   "metadata": {
    "hidden": true
   },
   "outputs": [],
   "source": [
    "# 单个#开头是单行注释\n",
    "# 第二个注释\n",
    " \n",
    "'''\n",
    "三个单引号用来开始和结束多行注释\n",
    "第三注释\n",
    "第四注释\n",
    "'''\n",
    " \n",
    "\"\"\"\n",
    "三个双引号用来开始和结束多行注释\n",
    "第五注释\n",
    "第六注释\n",
    "\"\"\"\n",
    "print (\"Hello, Python!\")"
   ]
  },
  {
   "cell_type": "code",
   "execution_count": 93,
   "metadata": {
    "hidden": true
   },
   "outputs": [
    {
     "name": "stdout",
     "output_type": "stream",
     "text": [
      "True\n",
      "False\n"
     ]
    }
   ],
   "source": [
    "if True:\n",
    "    print (\"True\")\n",
    "    print (\"False\")  \n",
    "else:\n",
    "    print (\"False\")"
   ]
  },
  {
   "cell_type": "code",
   "execution_count": null,
   "metadata": {
    "hidden": true
   },
   "outputs": [],
   "source": []
  },
  {
   "cell_type": "markdown",
   "metadata": {},
   "source": [
    "# 列表"
   ]
  },
  {
   "cell_type": "markdown",
   "metadata": {},
   "source": [
    "## 列表索引（下标）\n",
    "- 列表索引从0开始\n",
    "- 列表索引可以反向使用，最后一个（倒数第一个）的下标是-1"
   ]
  },
  {
   "cell_type": "code",
   "execution_count": 90,
   "metadata": {},
   "outputs": [
    {
     "name": "stdout",
     "output_type": "stream",
     "text": [
      "l= [0, 1, 2, 3, 4, 5]\n",
      "l[0]= 0 \tl[3]= 3\n",
      "l[-1]= 5 \tl[-2]= 4 \tl[-6]= 0\n"
     ]
    }
   ],
   "source": [
    "l = [0,1,2,3,4,5];  \n",
    "\n",
    "print(\"l=\", l[:])\n",
    "print(\"l[0]=\", l[0], \"\\tl[3]=\", l[3])\n",
    "print(\"l[-1]=\", l[-1], \"\\tl[-2]=\", l[-2], \"\\tl[-6]=\", l[-6])  "
   ]
  },
  {
   "cell_type": "markdown",
   "metadata": {},
   "source": [
    "## 列表切片\n",
    "- 列表切片的本质是索引过滤，从原始列表的所有索引中，指定某个或者某些索引\n",
    "- 通常一个切片操作要提供三个参数 [start_index:  stop_index:  step]\n",
    "    - start_index是切片的起始位置（包括）. start_index置为空时，表示无限制，就是说可以从所有可能位置作为开始\n",
    "    - stop_index是切片的结束位置（不包括）. stop_index置为空时，表示无限制，就是说可以从所有可能位置作为结束\n",
    "    - step是切片步长。step置为空时，表示step=1 \n",
    "- start_index和stop_index本质上就是列表索引。列表索引的所有规则都适用。\n",
    "- start_index,stop_index,step不论是正数还是负数索引还是混用都可以\n",
    "- 切片操作也可以只提供两个参数[start_index:  stop_index]，此时step默认为1\n",
    "- [::]和[:]都表示切片所有元素\n",
    "- step取正数，表示从前向后的顺序切片。取负数，表示从后向前的顺序切片。\n",
    "- step取值不影响start_index和stop_index的解读。\n"
   ]
  },
  {
   "cell_type": "code",
   "execution_count": 27,
   "metadata": {},
   "outputs": [
    {
     "name": "stdout",
     "output_type": "stream",
     "text": [
      "l= [0, 1, 2, 3, 4, 5, 6, 7, 8, 9, 10]\n",
      "l[1:9:1]= [1, 2, 3, 4, 5, 6, 7, 8]\n",
      "l[1:9]= [1, 2, 3, 4, 5, 6, 7, 8]\n",
      "l[1:9:2]= [1, 3, 5, 7]\n"
     ]
    }
   ],
   "source": [
    "l = [0, 1, 2, 3, 4, 5, 6, 7, 8, 9, 10]; \n",
    "print(\"l=\",l)\n",
    "print(\"l[1:9:1]=\", l[1:9:1]) \n",
    "print(\"l[1:9]=\", l[1:9]) \n",
    "print(\"l[1:9:2]=\", l[1:9:2]) "
   ]
  },
  {
   "cell_type": "code",
   "execution_count": 58,
   "metadata": {},
   "outputs": [
    {
     "name": "stdout",
     "output_type": "stream",
     "text": [
      "l= [0, 1, 2, 3, 4, 5, 6, 7, 8, 9, 10]\n",
      "l[:3]= [0, 1, 2]\n",
      "l[2:]= [2, 3, 4, 5, 6, 7, 8, 9, 10]\n",
      "l[:]= [0, 1, 2, 3, 4, 5, 6, 7, 8, 9, 10]\n"
     ]
    }
   ],
   "source": [
    "l = [0, 1, 2, 3, 4, 5, 6, 7, 8, 9, 10]; \n",
    "print(\"l=\",l)\n",
    "print(\"l[:3]=\", l[:3]) \n",
    "print(\"l[2:]=\", l[2:]) "
   ]
  },
  {
   "cell_type": "code",
   "execution_count": 59,
   "metadata": {},
   "outputs": [
    {
     "name": "stdout",
     "output_type": "stream",
     "text": [
      "l= [0, 1, 2, 3, 4, 5, 6, 7, 8, 9, 10]\n",
      "l[:]= [0, 1, 2, 3, 4, 5, 6, 7, 8, 9, 10]\n",
      "l[::]= [0, 1, 2, 3, 4, 5, 6, 7, 8, 9, 10]\n"
     ]
    }
   ],
   "source": [
    "l = [0, 1, 2, 3, 4, 5, 6, 7, 8, 9, 10]; \n",
    "print(\"l=\",l)\n",
    "print(\"l[:]=\", l[:]) \n",
    "print(\"l[::]=\", l[::]) "
   ]
  },
  {
   "cell_type": "code",
   "execution_count": 44,
   "metadata": {},
   "outputs": [
    {
     "name": "stdout",
     "output_type": "stream",
     "text": [
      "l= [0, 1, 2, 3, 4, 5, 6, 7, 8, 9, 10]\n",
      "l[::-1]= [10, 9, 8, 7, 6, 5, 4, 3, 2, 1, 0] ##[start_index: stop_index: step]，step=-1\n",
      "l[:-1]= [0, 1, 2, 3, 4, 5, 6, 7, 8, 9] ##[start_index: stop_index]，step=1\n"
     ]
    }
   ],
   "source": [
    "l = [0, 1, 2, 3, 4, 5, 6, 7, 8, 9, 10]; \n",
    "print(\"l=\",l)\n",
    "print(\"l[::-1]=\", l[::-1], \"##[start_index: stop_index: step]，step=-1\")\n",
    "print(\"l[:-1]=\", l[:-1], \"##[start_index: stop_index]，step=1\")"
   ]
  },
  {
   "cell_type": "code",
   "execution_count": 51,
   "metadata": {},
   "outputs": [
    {
     "name": "stdout",
     "output_type": "stream",
     "text": [
      "l= [0, 1, 2, 3, 4, 5, 6, 7, 8, 9, 10]\n",
      "l[3::1]= [3, 4, 5, 6, 7, 8, 9, 10] \t\t##正向，开始为3，结束不限定\n",
      "l[3::-1]= [3, 2, 1, 0] \t\t\t##反向，开始为3，结束不限定\n",
      "l[:3:1]= [0, 1, 2] \t\t\t##正向，结束为3，开始不限定\n",
      "l[:3:-1]= [10, 9, 8, 7, 6, 5, 4] \t\t##反向，结束为3，开始不限定\n"
     ]
    }
   ],
   "source": [
    "l = [0, 1, 2, 3, 4, 5, 6, 7, 8, 9, 10]; \n",
    "print(\"l=\",l)\n",
    "print(\"l[3::1]=\", l[3::1], \"\\t\\t##正向，开始为3，结束不限定\") \n",
    "print(\"l[3::-1]=\", l[3::-1], \"\\t\\t\\t##反向，开始为3，结束不限定\") \n",
    "print(\"l[:3:1]=\", l[:3:1], \"\\t\\t\\t##正向，结束为3，开始不限定\") \n",
    "print(\"l[:3:-1]=\", l[:3:-1], \"\\t\\t##反向，结束为3，开始不限定\") "
   ]
  },
  {
   "cell_type": "markdown",
   "metadata": {},
   "source": [
    "## 列表切片 vs 列表索引\n",
    "- 列表切片的结果是一个新的列表，列表索引的结果是列表中的一个元素"
   ]
  },
  {
   "cell_type": "code",
   "execution_count": 52,
   "metadata": {},
   "outputs": [
    {
     "name": "stdout",
     "output_type": "stream",
     "text": [
      "l[3:4:1]= [3] \t##结果是新的列表\n",
      "l[3]= 3 \t##结果是一个元素\n"
     ]
    }
   ],
   "source": [
    "l= [0, 1, 2, 3, 4, 5, 6, 7, 8, 9, 10]\n",
    "print(\"l[3:4:1]=\", l[3:4:1], \"\\t##结果是新的列表\") \n",
    "print(\"l[3]=\", l[3], \"\\t##结果是一个元素\") "
   ]
  },
  {
   "cell_type": "markdown",
   "metadata": {},
   "source": [
    "## 多维列表\n",
    "- 对于多维列表，使用逗号([xx,xx,xx])来分隔不同维度\n",
    "- 从左向右是从高维到低维\n",
    "- 要指定低纬度索引，必须先指定高纬度索引\n",
    "- 纬度索引可以显式指定，也可以用切片方式获得（此时可以指定多个索引值），例如可以使用[::]或者[:]取某一维度的所有索引"
   ]
  },
  {
   "cell_type": "code",
   "execution_count": 82,
   "metadata": {},
   "outputs": [
    {
     "name": "stdout",
     "output_type": "stream",
     "text": [
      "a= [[['000' '001']\n",
      "  ['010' '011']]\n",
      "\n",
      " [['100' '101']\n",
      "  ['110' '111']]]\n",
      "\n",
      "=============\n",
      "\n",
      "a[0,] \t\t\t(n1=0, n2和n3全部。n1使用索引，而不是切片，所以降维2维)\n",
      " [['000' '001']\n",
      " ['010' '011']]\n",
      "\n",
      "=============\n",
      "\n",
      "a[0,:] \t\t\t(n1=0, n2和n3全部。n1使用索引，而不是切片，所以降维2维)\n",
      " [['000' '001']\n",
      " ['010' '011']]\n",
      "\n",
      "=============\n",
      "\n",
      "a[0,:,:] \t\t\t(n1=0, n2和n3全部。n1使用索引，而不是切片，所以降维2维)\n",
      " [['000' '001']\n",
      " ['010' '011']]\n",
      "\n",
      "=============\n",
      "\n",
      "a[0:1,] \t\t\t(n1=0, n2和n3全部。n1使用切片，所以依旧是3维)\n",
      " [[['000' '001']\n",
      "  ['010' '011']]]\n",
      "\n",
      "=============\n",
      "\n",
      "a[0,0,0] \t\t\t(n1=0, n2=0, n3=0, 。n1,n2,n3索引，二不是用切片，所以降维)\n",
      " 000\n",
      "\n",
      "=============\n",
      "\n",
      "a[0:1,0:1,0:1] \t\t\t(n1=0, n2=0, n3=0, 。n1,n2,n3使用切片，所以依旧是3维)\n",
      " [[['000']]]\n",
      "\n",
      "=============\n",
      "\n"
     ]
    }
   ],
   "source": [
    "import numpy as np \n",
    "a = np.array([[[\"000\",  \"001\"],  [\"010\",  \"011\"]],[[\"100\",  \"101\"],  [\"110\",  \"111\"]]])  #三维列表\n",
    "print (\"a=\", a)\n",
    "print (\"\\n=============\\n\")\n",
    "\n",
    "print (\"a[0,]\", \"\\t\\t\\t(n1=0, n2和n3全部。n1使用索引，而不是切片，所以降维2维)\\n\", a[0,])\n",
    "print (\"\\n=============\\n\")\n",
    "\n",
    "print (\"a[0,:]\", \"\\t\\t\\t(n1=0, n2和n3全部。n1使用索引，而不是切片，所以降维2维)\\n\", a[0,:])\n",
    "print (\"\\n=============\\n\")\n",
    "\n",
    "print (\"a[0,:,:]\", \"\\t\\t\\t(n1=0, n2和n3全部。n1使用索引，而不是切片，所以降维2维)\\n\", a[0,:,:])\n",
    "print (\"\\n=============\\n\")\n",
    "\n",
    "print (\"a[0:1,]\", \"\\t\\t\\t(n1=0, n2和n3全部。n1使用切片，所以依旧是3维)\\n\", a[0:1,])\n",
    "print (\"\\n=============\\n\")\n",
    "\n",
    "print (\"a[0,0,0]\", \"\\t\\t\\t(n1=0, n2=0, n3=0, 。n1,n2,n3索引，二不是用切片，所以降维)\\n\", a[0,0,0])\n",
    "print (\"\\n=============\\n\")\n",
    "\n",
    "print (\"a[0:1,0:1,0:1]\", \"\\t\\t\\t(n1=0, n2=0, n3=0, 。n1,n2,n3使用切片，所以依旧是3维)\\n\", a[0:1,0:1,0:1])\n",
    "print (\"\\n=============\\n\")\n"
   ]
  },
  {
   "cell_type": "markdown",
   "metadata": {},
   "source": [
    "## 字符串"
   ]
  },
  {
   "cell_type": "code",
   "execution_count": null,
   "metadata": {},
   "outputs": [],
   "source": [
    "str='Runoob'\n",
    " \n",
    "print(str)                 # 输出字符串\n",
    "print(str + '   OK')        # 连接字符串\n",
    " \n",
    "print('hello\\nrunoob')      # 使用反斜杠(\\)+n转义特殊字符\n",
    "print(r'hello\\nrunoob')     # 在字符串前面添加一个 r，表示原始字符串，不会发生转义"
   ]
  },
  {
   "cell_type": "code",
   "execution_count": null,
   "metadata": {},
   "outputs": [],
   "source": [
    "input(\"\\n\\n按下 enter 键后退出。\")\n"
   ]
  },
  {
   "cell_type": "markdown",
   "metadata": {},
   "source": [
    "# print('hello\\nrunoob')  "
   ]
  },
  {
   "cell_type": "code",
   "execution_count": null,
   "metadata": {},
   "outputs": [],
   "source": [
    "import sys; x = 'runoob'; sys.stdout.write(x + '\\n')"
   ]
  },
  {
   "cell_type": "code",
   "execution_count": null,
   "metadata": {},
   "outputs": [],
   "source": [
    "a, b, c, d = 20, 5.5, True, 4+3j\n",
    "print(type(a), type(b), type(c), type(d))"
   ]
  },
  {
   "cell_type": "code",
   "execution_count": null,
   "metadata": {},
   "outputs": [],
   "source": [
    "class A:\n",
    "    pass\n",
    "class B(A):\n",
    "    pass"
   ]
  },
  {
   "cell_type": "code",
   "execution_count": null,
   "metadata": {},
   "outputs": [],
   "source": [
    "isinstance(A(), A)"
   ]
  },
  {
   "cell_type": "code",
   "execution_count": null,
   "metadata": {},
   "outputs": [],
   "source": [
    "type(A()) == A "
   ]
  },
  {
   "cell_type": "code",
   "execution_count": null,
   "metadata": {},
   "outputs": [],
   "source": [
    "isinstance(B(), A)"
   ]
  },
  {
   "cell_type": "code",
   "execution_count": null,
   "metadata": {},
   "outputs": [],
   "source": [
    "type(B()) == A\n"
   ]
  },
  {
   "cell_type": "code",
   "execution_count": null,
   "metadata": {},
   "outputs": [],
   "source": [
    "student = {'Tom', 'Jim', 'Mary', 'Tom', 'Jack', 'Rose'}\n",
    " \n",
    "print(student)   # 输出集合，重复的元素被自动去掉\n",
    " \n",
    "# 成员测试\n",
    "if 'Rose' in student :\n",
    "    print('Rose 在集合中')\n",
    "else :\n",
    "    print('Rose 不在集合中')\n",
    " \n",
    " \n",
    "# set可以进行集合运算\n",
    "a = set('abracadabra')\n",
    "b = set('alacazam')\n",
    " \n",
    "print(a)\n",
    " \n",
    "print(a - b)     # a 和 b 的差集\n",
    " \n",
    "print(a | b)     # a 和 b 的并集\n",
    " \n",
    "print(a & b)     # a 和 b 的交集\n",
    " \n",
    "print(a ^ b)     # a 和 b 中不同时存在的元素"
   ]
  },
  {
   "cell_type": "code",
   "execution_count": null,
   "metadata": {},
   "outputs": [],
   "source": [
    "dict = {}\n",
    "dict['one'] = \"1 - 菜鸟教程\"\n",
    "dict[2]     = \"2 - 菜鸟工具\"\n",
    " \n",
    "tinydict = {'name': 'runoob','code':1, 'site': 'www.runoob.com'}\n",
    " \n",
    "print (dict['one'])       # 输出键为 'one' 的值\n",
    "print (dict[2])           # 输出键为 2 的值\n",
    "print (tinydict)          # 输出完整的字典\n",
    "print (tinydict.keys())   # 输出所有键\n",
    "print (tinydict.values()) # 输出所有值"
   ]
  },
  {
   "cell_type": "code",
   "execution_count": null,
   "metadata": {},
   "outputs": [],
   "source": [
    "hello()"
   ]
  },
  {
   "cell_type": "code",
   "execution_count": null,
   "metadata": {},
   "outputs": [],
   "source": [
    "def hello() :\n",
    "   print(\"Hello World!1111111\")"
   ]
  },
  {
   "cell_type": "code",
   "execution_count": null,
   "metadata": {},
   "outputs": [],
   "source": [
    "#可写函数说明\n",
    "def printinfo( name, age ):\n",
    "   \"打印任何传入的字符串\"\n",
    "   print (\"名字: \", name)\n",
    "   print (\"年龄: \", age)\n",
    "   return 0\n",
    " \n",
    "#调用printinfo函数\n",
    "printinfo( age=50, name=\"runoob\" )"
   ]
  },
  {
   "cell_type": "code",
   "execution_count": null,
   "metadata": {},
   "outputs": [],
   "source": [
    "printinfo( 50, \"runoob\" )"
   ]
  },
  {
   "cell_type": "code",
   "execution_count": null,
   "metadata": {},
   "outputs": [],
   "source": [
    "import datetime\n",
    "def getYesterday(): \n",
    "    today=datetime.date.today() \n",
    "    oneday=datetime.timedelta(days=1) \n",
    "    yesterday=today-oneday  \n",
    "    return yesterday\n",
    " \n",
    "# 输出\n",
    "print(getYesterday())"
   ]
  },
  {
   "cell_type": "code",
   "execution_count": null,
   "metadata": {},
   "outputs": [],
   "source": []
  },
  {
   "cell_type": "code",
   "execution_count": null,
   "metadata": {},
   "outputs": [],
   "source": [
    "1+2"
   ]
  },
  {
   "cell_type": "code",
   "execution_count": null,
   "metadata": {},
   "outputs": [],
   "source": [
    "%magic"
   ]
  },
  {
   "cell_type": "code",
   "execution_count": null,
   "metadata": {},
   "outputs": [],
   "source": [
    "%hist"
   ]
  },
  {
   "cell_type": "code",
   "execution_count": null,
   "metadata": {},
   "outputs": [],
   "source": [
    "%matplotlib inline\n",
    "import numpy as np\n",
    "import matplotlib.pyplot as plt\n",
    "import seaborn; \n",
    "from sklearn.linear_model import LinearRegression\n",
    "import pylab as pl\n",
    "\n",
    "seaborn.set()"
   ]
  },
  {
   "cell_type": "code",
   "execution_count": null,
   "metadata": {},
   "outputs": [],
   "source": [
    "# Create some simple data\n",
    "import numpy as np\n",
    "np.random.seed(0)\n",
    "X = np.random.random(size=(20, 1))\n",
    "y = 3 * X.squeeze() + 2 + np.random.randn(20)\n",
    "\n",
    "plt.plot(X.squeeze(), y, 'o');"
   ]
  },
  {
   "cell_type": "code",
   "execution_count": null,
   "metadata": {},
   "outputs": [],
   "source": [
    "import numpy as np \n",
    "a = np.array([1,  2,  3], dtype = complex)  \n",
    "print (a)"
   ]
  },
  {
   "cell_type": "code",
   "execution_count": null,
   "metadata": {},
   "outputs": [],
   "source": [
    "from __future__ import print_function\n",
    "import numpy as np\n",
    "from matplotlib import pyplot as plt\n",
    "from matplotlib.font_manager import FontProperties"
   ]
  },
  {
   "cell_type": "code",
   "execution_count": null,
   "metadata": {},
   "outputs": [],
   "source": [
    "cd C:\\Users\\eyunxli\\Documents\\GitHub\\MachineLearning_Python\\LinearRegression\n"
   ]
  },
  {
   "cell_type": "code",
   "execution_count": 91,
   "metadata": {},
   "outputs": [
    {
     "name": "stdout",
     "output_type": "stream",
     "text": [
      "加载数据...\n",
      "\n"
     ]
    },
    {
     "ename": "OSError",
     "evalue": "data.txt not found.",
     "output_type": "error",
     "traceback": [
      "\u001b[1;31m---------------------------------------------------------------------------\u001b[0m",
      "\u001b[1;31mOSError\u001b[0m                                   Traceback (most recent call last)",
      "\u001b[1;32m<ipython-input-91-42210a680367>\u001b[0m in \u001b[0;36m<module>\u001b[1;34m()\u001b[0m\n\u001b[0;32m    114\u001b[0m \u001b[1;33m\u001b[0m\u001b[0m\n\u001b[0;32m    115\u001b[0m \u001b[1;32mif\u001b[0m \u001b[0m__name__\u001b[0m \u001b[1;33m==\u001b[0m \u001b[1;34m\"__main__\"\u001b[0m\u001b[1;33m:\u001b[0m\u001b[1;33m\u001b[0m\u001b[0m\n\u001b[1;32m--> 116\u001b[1;33m     \u001b[0mtestLinearRegression\u001b[0m\u001b[1;33m(\u001b[0m\u001b[1;33m)\u001b[0m\u001b[1;33m\u001b[0m\u001b[0m\n\u001b[0m",
      "\u001b[1;32m<ipython-input-91-42210a680367>\u001b[0m in \u001b[0;36mtestLinearRegression\u001b[1;34m()\u001b[0m\n\u001b[0;32m     97\u001b[0m \u001b[1;31m# 测试linearRegression函数\u001b[0m\u001b[1;33m\u001b[0m\u001b[1;33m\u001b[0m\u001b[0m\n\u001b[0;32m     98\u001b[0m \u001b[1;32mdef\u001b[0m \u001b[0mtestLinearRegression\u001b[0m\u001b[1;33m(\u001b[0m\u001b[1;33m)\u001b[0m\u001b[1;33m:\u001b[0m\u001b[1;33m\u001b[0m\u001b[0m\n\u001b[1;32m---> 99\u001b[1;33m     \u001b[0mmu\u001b[0m\u001b[1;33m,\u001b[0m\u001b[0msigma\u001b[0m\u001b[1;33m,\u001b[0m\u001b[0mtheta\u001b[0m \u001b[1;33m=\u001b[0m \u001b[0mlinearRegression\u001b[0m\u001b[1;33m(\u001b[0m\u001b[1;36m0.01\u001b[0m\u001b[1;33m,\u001b[0m\u001b[1;36m400\u001b[0m\u001b[1;33m)\u001b[0m\u001b[1;33m\u001b[0m\u001b[0m\n\u001b[0m\u001b[0;32m    100\u001b[0m     \u001b[1;31m#print u\"\\n计算的theta值为：\\n\",theta\u001b[0m\u001b[1;33m\u001b[0m\u001b[1;33m\u001b[0m\u001b[0m\n\u001b[0;32m    101\u001b[0m     \u001b[1;31m#print u\"\\n预测结果为：%f\"%predict(mu, sigma, theta)\u001b[0m\u001b[1;33m\u001b[0m\u001b[1;33m\u001b[0m\u001b[0m\n",
      "\u001b[1;32m<ipython-input-91-42210a680367>\u001b[0m in \u001b[0;36mlinearRegression\u001b[1;34m(alpha, num_iters)\u001b[0m\n\u001b[0;32m     10\u001b[0m     \u001b[0mprint\u001b[0m\u001b[1;33m(\u001b[0m\u001b[1;34mu\"加载数据...\\n\"\u001b[0m\u001b[1;33m)\u001b[0m\u001b[1;33m\u001b[0m\u001b[0m\n\u001b[0;32m     11\u001b[0m \u001b[1;33m\u001b[0m\u001b[0m\n\u001b[1;32m---> 12\u001b[1;33m     \u001b[0mdata\u001b[0m \u001b[1;33m=\u001b[0m \u001b[0mloadtxtAndcsv_data\u001b[0m\u001b[1;33m(\u001b[0m\u001b[1;34m\"data.txt\"\u001b[0m\u001b[1;33m,\u001b[0m\u001b[1;34m\",\"\u001b[0m\u001b[1;33m,\u001b[0m\u001b[0mnp\u001b[0m\u001b[1;33m.\u001b[0m\u001b[0mfloat64\u001b[0m\u001b[1;33m)\u001b[0m  \u001b[1;31m#读取数据\u001b[0m\u001b[1;33m\u001b[0m\u001b[0m\n\u001b[0m\u001b[0;32m     13\u001b[0m     \u001b[0mX\u001b[0m \u001b[1;33m=\u001b[0m \u001b[0mdata\u001b[0m\u001b[1;33m[\u001b[0m\u001b[1;33m:\u001b[0m\u001b[1;33m,\u001b[0m\u001b[1;36m0\u001b[0m\u001b[1;33m:\u001b[0m\u001b[1;33m-\u001b[0m\u001b[1;36m1\u001b[0m\u001b[1;33m]\u001b[0m      \u001b[1;31m# X对应0到倒数第2列\u001b[0m\u001b[1;33m\u001b[0m\u001b[0m\n\u001b[0;32m     14\u001b[0m     \u001b[0my\u001b[0m \u001b[1;33m=\u001b[0m \u001b[0mdata\u001b[0m\u001b[1;33m[\u001b[0m\u001b[1;33m:\u001b[0m\u001b[1;33m,\u001b[0m\u001b[1;33m-\u001b[0m\u001b[1;36m1\u001b[0m\u001b[1;33m]\u001b[0m        \u001b[1;31m# y对应最后一列\u001b[0m\u001b[1;33m\u001b[0m\u001b[0m\n",
      "\u001b[1;32m<ipython-input-91-42210a680367>\u001b[0m in \u001b[0;36mloadtxtAndcsv_data\u001b[1;34m(fileName, split, dataType)\u001b[0m\n\u001b[0;32m     34\u001b[0m \u001b[1;31m# 加载txt和csv文件\u001b[0m\u001b[1;33m\u001b[0m\u001b[1;33m\u001b[0m\u001b[0m\n\u001b[0;32m     35\u001b[0m \u001b[1;32mdef\u001b[0m \u001b[0mloadtxtAndcsv_data\u001b[0m\u001b[1;33m(\u001b[0m\u001b[0mfileName\u001b[0m\u001b[1;33m,\u001b[0m\u001b[0msplit\u001b[0m\u001b[1;33m,\u001b[0m\u001b[0mdataType\u001b[0m\u001b[1;33m)\u001b[0m\u001b[1;33m:\u001b[0m\u001b[1;33m\u001b[0m\u001b[0m\n\u001b[1;32m---> 36\u001b[1;33m     \u001b[1;32mreturn\u001b[0m \u001b[0mnp\u001b[0m\u001b[1;33m.\u001b[0m\u001b[0mloadtxt\u001b[0m\u001b[1;33m(\u001b[0m\u001b[0mfileName\u001b[0m\u001b[1;33m,\u001b[0m\u001b[0mdelimiter\u001b[0m\u001b[1;33m=\u001b[0m\u001b[0msplit\u001b[0m\u001b[1;33m,\u001b[0m\u001b[0mdtype\u001b[0m\u001b[1;33m=\u001b[0m\u001b[0mdataType\u001b[0m\u001b[1;33m)\u001b[0m\u001b[1;33m\u001b[0m\u001b[0m\n\u001b[0m\u001b[0;32m     37\u001b[0m \u001b[1;33m\u001b[0m\u001b[0m\n\u001b[0;32m     38\u001b[0m \u001b[1;31m# 加载npy文件\u001b[0m\u001b[1;33m\u001b[0m\u001b[1;33m\u001b[0m\u001b[0m\n",
      "\u001b[1;32mC:\\MyPrograms\\Anaconda3\\lib\\site-packages\\numpy\\lib\\npyio.py\u001b[0m in \u001b[0;36mloadtxt\u001b[1;34m(fname, dtype, comments, delimiter, converters, skiprows, usecols, unpack, ndmin, encoding)\u001b[0m\n\u001b[0;32m    924\u001b[0m             \u001b[0mfname\u001b[0m \u001b[1;33m=\u001b[0m \u001b[0mstr\u001b[0m\u001b[1;33m(\u001b[0m\u001b[0mfname\u001b[0m\u001b[1;33m)\u001b[0m\u001b[1;33m\u001b[0m\u001b[0m\n\u001b[0;32m    925\u001b[0m         \u001b[1;32mif\u001b[0m \u001b[0m_is_string_like\u001b[0m\u001b[1;33m(\u001b[0m\u001b[0mfname\u001b[0m\u001b[1;33m)\u001b[0m\u001b[1;33m:\u001b[0m\u001b[1;33m\u001b[0m\u001b[0m\n\u001b[1;32m--> 926\u001b[1;33m             \u001b[0mfh\u001b[0m \u001b[1;33m=\u001b[0m \u001b[0mnp\u001b[0m\u001b[1;33m.\u001b[0m\u001b[0mlib\u001b[0m\u001b[1;33m.\u001b[0m\u001b[0m_datasource\u001b[0m\u001b[1;33m.\u001b[0m\u001b[0mopen\u001b[0m\u001b[1;33m(\u001b[0m\u001b[0mfname\u001b[0m\u001b[1;33m,\u001b[0m \u001b[1;34m'rt'\u001b[0m\u001b[1;33m,\u001b[0m \u001b[0mencoding\u001b[0m\u001b[1;33m=\u001b[0m\u001b[0mencoding\u001b[0m\u001b[1;33m)\u001b[0m\u001b[1;33m\u001b[0m\u001b[0m\n\u001b[0m\u001b[0;32m    927\u001b[0m             \u001b[0mfencoding\u001b[0m \u001b[1;33m=\u001b[0m \u001b[0mgetattr\u001b[0m\u001b[1;33m(\u001b[0m\u001b[0mfh\u001b[0m\u001b[1;33m,\u001b[0m \u001b[1;34m'encoding'\u001b[0m\u001b[1;33m,\u001b[0m \u001b[1;34m'latin1'\u001b[0m\u001b[1;33m)\u001b[0m\u001b[1;33m\u001b[0m\u001b[0m\n\u001b[0;32m    928\u001b[0m             \u001b[0mfh\u001b[0m \u001b[1;33m=\u001b[0m \u001b[0miter\u001b[0m\u001b[1;33m(\u001b[0m\u001b[0mfh\u001b[0m\u001b[1;33m)\u001b[0m\u001b[1;33m\u001b[0m\u001b[0m\n",
      "\u001b[1;32mC:\\MyPrograms\\Anaconda3\\lib\\site-packages\\numpy\\lib\\_datasource.py\u001b[0m in \u001b[0;36mopen\u001b[1;34m(path, mode, destpath, encoding, newline)\u001b[0m\n\u001b[0;32m    260\u001b[0m \u001b[1;33m\u001b[0m\u001b[0m\n\u001b[0;32m    261\u001b[0m     \u001b[0mds\u001b[0m \u001b[1;33m=\u001b[0m \u001b[0mDataSource\u001b[0m\u001b[1;33m(\u001b[0m\u001b[0mdestpath\u001b[0m\u001b[1;33m)\u001b[0m\u001b[1;33m\u001b[0m\u001b[0m\n\u001b[1;32m--> 262\u001b[1;33m     \u001b[1;32mreturn\u001b[0m \u001b[0mds\u001b[0m\u001b[1;33m.\u001b[0m\u001b[0mopen\u001b[0m\u001b[1;33m(\u001b[0m\u001b[0mpath\u001b[0m\u001b[1;33m,\u001b[0m \u001b[0mmode\u001b[0m\u001b[1;33m,\u001b[0m \u001b[0mencoding\u001b[0m\u001b[1;33m=\u001b[0m\u001b[0mencoding\u001b[0m\u001b[1;33m,\u001b[0m \u001b[0mnewline\u001b[0m\u001b[1;33m=\u001b[0m\u001b[0mnewline\u001b[0m\u001b[1;33m)\u001b[0m\u001b[1;33m\u001b[0m\u001b[0m\n\u001b[0m\u001b[0;32m    263\u001b[0m \u001b[1;33m\u001b[0m\u001b[0m\n\u001b[0;32m    264\u001b[0m \u001b[1;33m\u001b[0m\u001b[0m\n",
      "\u001b[1;32mC:\\MyPrograms\\Anaconda3\\lib\\site-packages\\numpy\\lib\\_datasource.py\u001b[0m in \u001b[0;36mopen\u001b[1;34m(self, path, mode, encoding, newline)\u001b[0m\n\u001b[0;32m    616\u001b[0m                                       encoding=encoding, newline=newline)\n\u001b[0;32m    617\u001b[0m         \u001b[1;32melse\u001b[0m\u001b[1;33m:\u001b[0m\u001b[1;33m\u001b[0m\u001b[0m\n\u001b[1;32m--> 618\u001b[1;33m             \u001b[1;32mraise\u001b[0m \u001b[0mIOError\u001b[0m\u001b[1;33m(\u001b[0m\u001b[1;34m\"%s not found.\"\u001b[0m \u001b[1;33m%\u001b[0m \u001b[0mpath\u001b[0m\u001b[1;33m)\u001b[0m\u001b[1;33m\u001b[0m\u001b[0m\n\u001b[0m\u001b[0;32m    619\u001b[0m \u001b[1;33m\u001b[0m\u001b[0m\n\u001b[0;32m    620\u001b[0m \u001b[1;33m\u001b[0m\u001b[0m\n",
      "\u001b[1;31mOSError\u001b[0m: data.txt not found."
     ]
    }
   ],
   "source": [
    "#-*- coding: utf-8 -*-\n",
    "from __future__ import print_function\n",
    "import numpy as np\n",
    "from matplotlib import pyplot as plt\n",
    "from matplotlib.font_manager import FontProperties\n",
    "font = FontProperties(fname=r\"c:\\windows\\fonts\\simsun.ttc\", size=14)    # 解决windows环境下画图汉字乱码问题\n",
    "\n",
    "\n",
    "def linearRegression(alpha=0.01,num_iters=400):\n",
    "    print(u\"加载数据...\\n\")\n",
    "    \n",
    "    data = loadtxtAndcsv_data(\"data.txt\",\",\",np.float64)  #读取数据\n",
    "    X = data[:,0:-1]      # X对应0到倒数第2列                  \n",
    "    y = data[:,-1]        # y对应最后一列  \n",
    "    m = len(y)            # 总的数据条数\n",
    "    col = data.shape[1]      # data的列数\n",
    "    \n",
    "    X,mu,sigma = featureNormaliza(X)    # 归一化\n",
    "    plot_X1_X2(X)         # 画图看一下归一化效果\n",
    "    \n",
    "    X = np.hstack((np.ones((m,1)),X))    # 在X前加一列1\n",
    "    \n",
    "    print(u\"\\n执行梯度下降算法....\\n\")\n",
    "    \n",
    "    theta = np.zeros((col,1))\n",
    "    y = y.reshape(-1,1)   #将行向量转化为列\n",
    "    theta,J_history = gradientDescent(X, y, theta, alpha, num_iters)\n",
    "    \n",
    "    plotJ(J_history, num_iters)\n",
    "    \n",
    "    return mu,sigma,theta   #返回均值mu,标准差sigma,和学习的结果theta\n",
    "    \n",
    "   \n",
    "# 加载txt和csv文件\n",
    "def loadtxtAndcsv_data(fileName,split,dataType):\n",
    "    return np.loadtxt(fileName,delimiter=split,dtype=dataType)\n",
    "\n",
    "# 加载npy文件\n",
    "def loadnpy_data(fileName):\n",
    "    return np.load(fileName)\n",
    "\n",
    "# 归一化feature\n",
    "def featureNormaliza(X):\n",
    "    X_norm = np.array(X)            #将X转化为numpy数组对象，才可以进行矩阵的运算\n",
    "    #定义所需变量\n",
    "    mu = np.zeros((1,X.shape[1]))   \n",
    "    sigma = np.zeros((1,X.shape[1]))\n",
    "    \n",
    "    mu = np.mean(X_norm,0)          # 求每一列的平均值（0指定为列，1代表行）\n",
    "    sigma = np.std(X_norm,0)        # 求每一列的标准差\n",
    "    for i in range(X.shape[1]):     # 遍历列\n",
    "        X_norm[:,i] = (X_norm[:,i]-mu[i])/sigma[i]  # 归一化\n",
    "    \n",
    "    return X_norm,mu,sigma\n",
    "\n",
    "# 画二维图\n",
    "def plot_X1_X2(X):\n",
    "    plt.scatter(X[:,0],X[:,1])\n",
    "    plt.show()\n",
    "\n",
    "\n",
    "# 梯度下降算法\n",
    "def gradientDescent(X,y,theta,alpha,num_iters):\n",
    "    m = len(y)      \n",
    "    n = len(theta)\n",
    "    \n",
    "    temp = np.matrix(np.zeros((n,num_iters)))   # 暂存每次迭代计算的theta，转化为矩阵形式\n",
    "    \n",
    "    \n",
    "    J_history = np.zeros((num_iters,1)) #记录每次迭代计算的代价值\n",
    "    \n",
    "    for i in range(num_iters):  # 遍历迭代次数    \n",
    "        h = np.dot(X,theta)     # 计算内积，matrix可以直接乘\n",
    "        temp[:,i] = theta - ((alpha/m)*(np.dot(np.transpose(X),h-y)))   #梯度的计算\n",
    "        theta = temp[:,i]\n",
    "        J_history[i] = computerCost(X,y,theta)      #调用计算代价函数\n",
    "        print('.', end=' ')      \n",
    "    return theta,J_history  \n",
    "\n",
    "# 计算代价函数\n",
    "def computerCost(X,y,theta):\n",
    "    m = len(y)\n",
    "    J = 0\n",
    "    \n",
    "    J = (np.transpose(X*theta-y))*(X*theta-y)/(2*m) #计算代价J\n",
    "    return J\n",
    "\n",
    "# 画每次迭代代价的变化图\n",
    "def plotJ(J_history,num_iters):\n",
    "    x = np.arange(1,num_iters+1)\n",
    "    plt.plot(x,J_history)\n",
    "    plt.xlabel(u\"迭代次数\",fontproperties=font) # 注意指定字体，要不然出现乱码问题\n",
    "    plt.ylabel(u\"代价值\",fontproperties=font)\n",
    "    plt.title(u\"代价随迭代次数的变化\",fontproperties=font)\n",
    "    plt.show()\n",
    "\n",
    "# 测试linearRegression函数\n",
    "def testLinearRegression():\n",
    "    mu,sigma,theta = linearRegression(0.01,400)\n",
    "    #print u\"\\n计算的theta值为：\\n\",theta\n",
    "    #print u\"\\n预测结果为：%f\"%predict(mu, sigma, theta)\n",
    "    \n",
    "# 测试学习效果（预测）\n",
    "def predict(mu,sigma,theta):\n",
    "    result = 0\n",
    "    # 注意归一化\n",
    "    predict = np.array([1650,3])\n",
    "    norm_predict = (predict-mu)/sigma\n",
    "    final_predict = np.hstack((np.ones((1)),norm_predict))\n",
    "    \n",
    "    result = np.dot(final_predict,theta)    # 预测结果\n",
    "    return result\n",
    "    \n",
    "    \n",
    "if __name__ == \"__main__\":\n",
    "    testLinearRegression()"
   ]
  },
  {
   "cell_type": "code",
   "execution_count": 92,
   "metadata": {},
   "outputs": [
    {
     "name": "stdout",
     "output_type": "stream",
     "text": [
      " Volume in drive C is OSDisk\n",
      " Volume Serial Number is A2EA-1ABE\n",
      "\n",
      " Directory of C:\\Users\\eyunxli\\Documents\\GitHub\\PythonLearning\n",
      "\n",
      "19/01/24  19:34    <DIR>          .\n",
      "19/01/24  19:34    <DIR>          ..\n",
      "18/12/18  10:17    <DIR>          .ipynb_checkpoints\n",
      "19/01/24  19:34            23,198 example.ipynb\n",
      "18/12/19  00:12                10 README\n",
      "               2 File(s)         23,208 bytes\n",
      "               3 Dir(s)  310,443,991,040 bytes free\n"
     ]
    }
   ],
   "source": [
    "!dir"
   ]
  }
 ],
 "metadata": {
  "kernelspec": {
   "display_name": "Python 3",
   "language": "python",
   "name": "python3"
  },
  "language_info": {
   "codemirror_mode": {
    "name": "ipython",
    "version": 3
   },
   "file_extension": ".py",
   "mimetype": "text/x-python",
   "name": "python",
   "nbconvert_exporter": "python",
   "pygments_lexer": "ipython3",
   "version": "3.7.0"
  },
  "toc": {
   "base_numbering": 1,
   "nav_menu": {},
   "number_sections": true,
   "sideBar": true,
   "skip_h1_title": false,
   "title_cell": "Table of Contents",
   "title_sidebar": "Contents",
   "toc_cell": false,
   "toc_position": {},
   "toc_section_display": true,
   "toc_window_display": true
  }
 },
 "nbformat": 4,
 "nbformat_minor": 2
}
